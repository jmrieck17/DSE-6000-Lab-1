{
  "nbformat": 4,
  "nbformat_minor": 0,
  "metadata": {
    "colab": {
      "provenance": []
    },
    "kernelspec": {
      "name": "python3",
      "display_name": "Python 3"
    }
  },
  "cells": [
    {
      "cell_type": "markdown",
      "metadata": {
        "id": "PVL82Xc_966F"
      },
      "source": [
        "**Step 1: Import all of the libraries I need & import the .csv file that I will be working on**"
      ]
    },
    {
      "cell_type": "code",
      "metadata": {
        "id": "JSifR9ts9eft",
        "colab": {
          "base_uri": "https://localhost:8080/",
          "height": 202
        },
        "outputId": "2989c072-5d68-4841-99ed-e91cf64f6903"
      },
      "source": [
        "import pandas as pd\n",
        "import numpy as np\n",
        "import matplotlib.pyplot as plt\n",
        "import seaborn as sns\n",
        "\n",
        "CovidByCounty_df = pd.read_csv(\"https://storage.googleapis.com/files.mobibootcamp.com/2020-datafiles/Covid-19_Tests_by_County_2020-09-17_702630_7.csv\")\n",
        "CovidByCounty_df.head()"
      ],
      "execution_count": null,
      "outputs": [
        {
          "output_type": "execute_result",
          "data": {
            "text/html": [
              "<div>\n",
              "<style scoped>\n",
              "    .dataframe tbody tr th:only-of-type {\n",
              "        vertical-align: middle;\n",
              "    }\n",
              "\n",
              "    .dataframe tbody tr th {\n",
              "        vertical-align: top;\n",
              "    }\n",
              "\n",
              "    .dataframe thead th {\n",
              "        text-align: right;\n",
              "    }\n",
              "</style>\n",
              "<table border=\"1\" class=\"dataframe\">\n",
              "  <thead>\n",
              "    <tr style=\"text-align: right;\">\n",
              "      <th></th>\n",
              "      <th>COUNTY</th>\n",
              "      <th>TestType</th>\n",
              "      <th>Count</th>\n",
              "      <th>RatePerMillion</th>\n",
              "      <th>Updated</th>\n",
              "    </tr>\n",
              "  </thead>\n",
              "  <tbody>\n",
              "    <tr>\n",
              "      <th>0</th>\n",
              "      <td>Alcona</td>\n",
              "      <td>Diagnostic</td>\n",
              "      <td>1974</td>\n",
              "      <td>189716.0</td>\n",
              "      <td>2020/09/17 13:31:36</td>\n",
              "    </tr>\n",
              "    <tr>\n",
              "      <th>1</th>\n",
              "      <td>Alcona</td>\n",
              "      <td>Serology</td>\n",
              "      <td>51</td>\n",
              "      <td>4901.0</td>\n",
              "      <td>2020/09/17 13:31:36</td>\n",
              "    </tr>\n",
              "    <tr>\n",
              "      <th>2</th>\n",
              "      <td>Alcona</td>\n",
              "      <td>Total</td>\n",
              "      <td>2025</td>\n",
              "      <td>194618.0</td>\n",
              "      <td>2020/09/17 13:31:36</td>\n",
              "    </tr>\n",
              "    <tr>\n",
              "      <th>3</th>\n",
              "      <td>Alger</td>\n",
              "      <td>Serology</td>\n",
              "      <td>66</td>\n",
              "      <td>7246.0</td>\n",
              "      <td>2020/09/17 13:31:36</td>\n",
              "    </tr>\n",
              "    <tr>\n",
              "      <th>4</th>\n",
              "      <td>Alger</td>\n",
              "      <td>Diagnostic</td>\n",
              "      <td>1156</td>\n",
              "      <td>126921.0</td>\n",
              "      <td>2020/09/17 13:31:36</td>\n",
              "    </tr>\n",
              "  </tbody>\n",
              "</table>\n",
              "</div>"
            ],
            "text/plain": [
              "   COUNTY    TestType  Count  RatePerMillion              Updated\n",
              "0  Alcona  Diagnostic   1974        189716.0  2020/09/17 13:31:36\n",
              "1  Alcona    Serology     51          4901.0  2020/09/17 13:31:36\n",
              "2  Alcona       Total   2025        194618.0  2020/09/17 13:31:36\n",
              "3   Alger    Serology     66          7246.0  2020/09/17 13:31:36\n",
              "4   Alger  Diagnostic   1156        126921.0  2020/09/17 13:31:36"
            ]
          },
          "metadata": {
            "tags": []
          },
          "execution_count": 2
        }
      ]
    },
    {
      "cell_type": "markdown",
      "metadata": {
        "id": "lb9Dkn2o-dvL"
      },
      "source": [
        "**Step 2: Run a quick Summary Statistics on the data table**"
      ]
    },
    {
      "cell_type": "code",
      "metadata": {
        "id": "XH7bsz9u-ljw",
        "colab": {
          "base_uri": "https://localhost:8080/",
          "height": 225
        },
        "outputId": "08a3c481-562e-48cf-af96-7d8383a63505"
      },
      "source": [
        "CovidByCounty_df.info()"
      ],
      "execution_count": null,
      "outputs": [
        {
          "output_type": "stream",
          "text": [
            "<class 'pandas.core.frame.DataFrame'>\n",
            "RangeIndex: 258 entries, 0 to 257\n",
            "Data columns (total 5 columns):\n",
            " #   Column          Non-Null Count  Dtype  \n",
            "---  ------          --------------  -----  \n",
            " 0   COUNTY          258 non-null    object \n",
            " 1   TestType        258 non-null    object \n",
            " 2   Count           258 non-null    int64  \n",
            " 3   RatePerMillion  252 non-null    float64\n",
            " 4   Updated         258 non-null    object \n",
            "dtypes: float64(1), int64(1), object(3)\n",
            "memory usage: 10.2+ KB\n"
          ],
          "name": "stdout"
        }
      ]
    },
    {
      "cell_type": "code",
      "metadata": {
        "id": "pLzC7A1e_0ef",
        "colab": {
          "base_uri": "https://localhost:8080/",
          "height": 294
        },
        "outputId": "14f5549b-d3ca-400b-fcdf-429eb600288b"
      },
      "source": [
        "CovidByCounty_df.describe()"
      ],
      "execution_count": null,
      "outputs": [
        {
          "output_type": "execute_result",
          "data": {
            "text/html": [
              "<div>\n",
              "<style scoped>\n",
              "    .dataframe tbody tr th:only-of-type {\n",
              "        vertical-align: middle;\n",
              "    }\n",
              "\n",
              "    .dataframe tbody tr th {\n",
              "        vertical-align: top;\n",
              "    }\n",
              "\n",
              "    .dataframe thead th {\n",
              "        text-align: right;\n",
              "    }\n",
              "</style>\n",
              "<table border=\"1\" class=\"dataframe\">\n",
              "  <thead>\n",
              "    <tr style=\"text-align: right;\">\n",
              "      <th></th>\n",
              "      <th>Count</th>\n",
              "      <th>RatePerMillion</th>\n",
              "    </tr>\n",
              "  </thead>\n",
              "  <tbody>\n",
              "    <tr>\n",
              "      <th>count</th>\n",
              "      <td>258.000000</td>\n",
              "      <td>252.000000</td>\n",
              "    </tr>\n",
              "    <tr>\n",
              "      <th>mean</th>\n",
              "      <td>27644.968992</td>\n",
              "      <td>180129.607143</td>\n",
              "    </tr>\n",
              "    <tr>\n",
              "      <th>std</th>\n",
              "      <td>65158.329621</td>\n",
              "      <td>139107.491391</td>\n",
              "    </tr>\n",
              "    <tr>\n",
              "      <th>min</th>\n",
              "      <td>15.000000</td>\n",
              "      <td>1536.000000</td>\n",
              "    </tr>\n",
              "    <tr>\n",
              "      <th>25%</th>\n",
              "      <td>1227.000000</td>\n",
              "      <td>15437.750000</td>\n",
              "    </tr>\n",
              "    <tr>\n",
              "      <th>50%</th>\n",
              "      <td>4949.500000</td>\n",
              "      <td>194775.500000</td>\n",
              "    </tr>\n",
              "    <tr>\n",
              "      <th>75%</th>\n",
              "      <td>18437.000000</td>\n",
              "      <td>281410.750000</td>\n",
              "    </tr>\n",
              "    <tr>\n",
              "      <th>max</th>\n",
              "      <td>416039.000000</td>\n",
              "      <td>510392.000000</td>\n",
              "    </tr>\n",
              "  </tbody>\n",
              "</table>\n",
              "</div>"
            ],
            "text/plain": [
              "               Count  RatePerMillion\n",
              "count     258.000000      252.000000\n",
              "mean    27644.968992   180129.607143\n",
              "std     65158.329621   139107.491391\n",
              "min        15.000000     1536.000000\n",
              "25%      1227.000000    15437.750000\n",
              "50%      4949.500000   194775.500000\n",
              "75%     18437.000000   281410.750000\n",
              "max    416039.000000   510392.000000"
            ]
          },
          "metadata": {
            "tags": []
          },
          "execution_count": 4
        }
      ]
    },
    {
      "cell_type": "markdown",
      "metadata": {
        "id": "ZJBzTopnAq4Q"
      },
      "source": [
        "*Some initial observations:*\n",
        "\n",
        "\n",
        "*   *There are a total of tive columns: two of the columns contain quantitative data types, and three contain qualitative data types*\n",
        "*   *The Rate per Million column appears to be missing some data*\n",
        "\n"
      ]
    },
    {
      "cell_type": "markdown",
      "metadata": {
        "id": "6HV7VUtQB9K4"
      },
      "source": [
        "**Step 3: Decide what to do with null values**"
      ]
    },
    {
      "cell_type": "code",
      "metadata": {
        "id": "2pYKcI5FGI-j",
        "colab": {
          "base_uri": "https://localhost:8080/",
          "height": 139
        },
        "outputId": "9efde948-be12-4541-c26a-3698dbae6a1b"
      },
      "source": [
        "is_NaN = CovidByCounty_df.isnull()\n",
        "row_has_NaN = is_NaN.any(axis=1)\n",
        "rows_with_NaN = CovidByCounty_df[row_has_NaN]\n",
        "print(rows_with_NaN)"
      ],
      "execution_count": null,
      "outputs": [
        {
          "output_type": "stream",
          "text": [
            "           COUNTY    TestType   Count  RatePerMillion              Updated\n",
            "57   Correctional    Serology   10990             NaN  2020/09/17 13:31:36\n",
            "58   Correctional  Diagnostic   83705             NaN  2020/09/17 13:31:36\n",
            "59   Correctional       Total   94695             NaN  2020/09/17 13:31:36\n",
            "243       Unknown    Serology   19839             NaN  2020/09/17 13:31:36\n",
            "244       Unknown  Diagnostic  223551             NaN  2020/09/17 13:31:36\n",
            "245       Unknown       Total  243390             NaN  2020/09/17 13:31:36\n"
          ],
          "name": "stdout"
        }
      ]
    },
    {
      "cell_type": "markdown",
      "metadata": {
        "id": "WiachXFZHGcU"
      },
      "source": [
        "These are the six rows in the data that have null values. Notice that in the County column, the row data is referring to \"Correctional\" and \"Unknown.\" Correctional most likely refers to the correctional facilities in the state; unsure of what the unknown data is supposed to represent. I am not sure if the correctional data is lumped in with the counts of the counties that each individual correctional facility if housed, so I think the best thing to do is to remove these rows from our dataset "
      ]
    },
    {
      "cell_type": "code",
      "metadata": {
        "id": "-T2WNhtgJDTP",
        "colab": {
          "base_uri": "https://localhost:8080/",
          "height": 225
        },
        "outputId": "e2543a48-1679-4111-8e0d-15c46844ced4"
      },
      "source": [
        "CovidByCounty_df1 = CovidByCounty_df.dropna()\n",
        "CovidByCounty_df1.info()"
      ],
      "execution_count": null,
      "outputs": [
        {
          "output_type": "stream",
          "text": [
            "<class 'pandas.core.frame.DataFrame'>\n",
            "Int64Index: 252 entries, 0 to 257\n",
            "Data columns (total 5 columns):\n",
            " #   Column          Non-Null Count  Dtype  \n",
            "---  ------          --------------  -----  \n",
            " 0   COUNTY          252 non-null    object \n",
            " 1   TestType        252 non-null    object \n",
            " 2   Count           252 non-null    int64  \n",
            " 3   RatePerMillion  252 non-null    float64\n",
            " 4   Updated         252 non-null    object \n",
            "dtypes: float64(1), int64(1), object(3)\n",
            "memory usage: 11.8+ KB\n"
          ],
          "name": "stdout"
        }
      ]
    },
    {
      "cell_type": "markdown",
      "metadata": {
        "id": "G4q_FHPnMXL_"
      },
      "source": [
        "Another thing I noticed when looking at this data set; there are separate rows for the city of Detroit. Since the city of Detroit is within Wayne County, I don't want to double count those results in my sample since those values are wrapped in Wayne County's values; therefore I will also be dropping the rows that show \"Detroit City\" from my dataset. This will leave me with 249 rows of data to use for my analysis."
      ]
    },
    {
      "cell_type": "code",
      "metadata": {
        "id": "WQH3-xmQLf8L",
        "colab": {
          "base_uri": "https://localhost:8080/",
          "height": 225
        },
        "outputId": "16967842-d045-41eb-d9c2-346a0642e903"
      },
      "source": [
        "CovidByCounty_df2 = CovidByCounty_df1[CovidByCounty_df1.COUNTY != 'Detroit City']\n",
        "CovidByCounty_df2.info()"
      ],
      "execution_count": null,
      "outputs": [
        {
          "output_type": "stream",
          "text": [
            "<class 'pandas.core.frame.DataFrame'>\n",
            "Int64Index: 249 entries, 0 to 257\n",
            "Data columns (total 5 columns):\n",
            " #   Column          Non-Null Count  Dtype  \n",
            "---  ------          --------------  -----  \n",
            " 0   COUNTY          249 non-null    object \n",
            " 1   TestType        249 non-null    object \n",
            " 2   Count           249 non-null    int64  \n",
            " 3   RatePerMillion  249 non-null    float64\n",
            " 4   Updated         249 non-null    object \n",
            "dtypes: float64(1), int64(1), object(3)\n",
            "memory usage: 11.7+ KB\n"
          ],
          "name": "stdout"
        }
      ]
    },
    {
      "cell_type": "markdown",
      "metadata": {
        "id": "w6WJtajxOx-Y"
      },
      "source": [
        "**Step 4: Add Dictionaries & Create New Categorical Column**"
      ]
    },
    {
      "cell_type": "code",
      "metadata": {
        "id": "iiZsJIUYSKMR",
        "colab": {
          "base_uri": "https://localhost:8080/",
          "height": 519
        },
        "outputId": "3e3adde0-22ba-4ec4-a09b-2d5570729dc9"
      },
      "source": [
        "Counties_By_Region = {'Midland':'Southeast' , 'Bay':'Southeast' , 'Saginaw':'Southeast' , 'Shiawassee':'Southeast' , 'Ingham':'Southeast' , 'Jackson':'Southeast' , 'Hillsdale':'Southeast' , 'Lenawee':'Southeast' , 'Monroe':'Southeast' , 'Wayne':'Southeast' , 'Macomb':'Southeast' , 'St Clair':'Southeast' , 'Sanilac':'Southeast' , 'Huron':'Southeast' , 'Tuscola':'Southeast' , 'Genesee':'Southeast' , 'Livingston':'Southeast' , 'Washtenaw':'Southeast' , 'Oakland':'Southeast' , 'Lapeer':'Southeast' , 'Isabella':'Southwest' , 'Mecosta':'Southwest' , 'Newaygo':'Southwest' , 'Oceana':'Southwest' , 'Muskegon':'Southwest' , 'Ottawa':'Southwest' , 'Allegan':'Southwest' , 'Van Buren':'Southwest' , 'Berrien':'Southwest' , 'Cass':'Southwest' , 'St Joseph':'Southwest' , 'Branch':'Southwest' , 'Calhoun':'Southwest' , 'Eaton':'Southwest' , 'Clinton':'Southwest' , 'Gratiot':'Southwest' ,'Montcalm':'Southwest' , 'Kent':'Southwest' , 'Ionia':'Southwest' , 'Barry':'Southwest' , 'Kalamazoo':'Southwest' , 'Arenac':'Northeast' , 'Gladwin':'Northeast' , 'Roscommon':'Northeast' , 'Crawford':'Northeast' , 'Otsego':'Northeast' , 'Cheboygan':'Northeast' , 'Presque Isle':'Northeast' , 'Alpena':'Northeast' , 'Alcona':'Northeast' , 'Iosco':'Northeast' , 'Ogemaw':'Northeast' , 'Oscoda':'Northeast' , 'Montmorency':'Northeast' , 'Clare':'Northwest' ,  'Osceola':'Northwest' , 'Lake':'Northwest' , 'Mason':'Northwest' , 'Manistee':'Northwest' , 'Benzie':'Northwest' , 'Leelanau':'Northwest' , 'Emmet':'Northwest' , 'Charlevoix':'Northwest' , 'Antrim':'Northwest' , 'Kalkaska':'Northwest' , 'Missaukee':'Northwest' , 'Wexford':'Northwest' , 'Grand Traverse':'Northwest' , 'Chippewa':'Upper Peninsula' ,  'Mackinac':'Upper Peninsula' , 'Luce':'Upper Peninsula' , 'Schoolcraft':'Upper Peninsula' , 'Alger':'Upper Peninsula' , 'Delta':'Upper Peninsula' , 'Menominee':'Upper Peninsula' , 'Dickinson':'Upper Peninsula' , 'Marquette':'Upper Peninsula' , 'Iron':'Upper Peninsula' , 'Baraga':'Upper Peninsula' , 'Houghton':'Upper Peninsula' , 'Keweenaw':'Upper Peninsula' , 'Ontonagon':'Upper Peninsula' , 'Gogebic':'Upper Peninsula'}\n",
        "CovidByCounty_df2[\"Region\"] = CovidByCounty_df2['COUNTY'].map(Counties_By_Region)\n",
        "CovidByCounty_df2"
      ],
      "execution_count": null,
      "outputs": [
        {
          "output_type": "stream",
          "text": [
            "/usr/local/lib/python3.6/dist-packages/ipykernel_launcher.py:2: SettingWithCopyWarning: \n",
            "A value is trying to be set on a copy of a slice from a DataFrame.\n",
            "Try using .loc[row_indexer,col_indexer] = value instead\n",
            "\n",
            "See the caveats in the documentation: https://pandas.pydata.org/pandas-docs/stable/user_guide/indexing.html#returning-a-view-versus-a-copy\n",
            "  \n"
          ],
          "name": "stderr"
        },
        {
          "output_type": "execute_result",
          "data": {
            "text/html": [
              "<div>\n",
              "<style scoped>\n",
              "    .dataframe tbody tr th:only-of-type {\n",
              "        vertical-align: middle;\n",
              "    }\n",
              "\n",
              "    .dataframe tbody tr th {\n",
              "        vertical-align: top;\n",
              "    }\n",
              "\n",
              "    .dataframe thead th {\n",
              "        text-align: right;\n",
              "    }\n",
              "</style>\n",
              "<table border=\"1\" class=\"dataframe\">\n",
              "  <thead>\n",
              "    <tr style=\"text-align: right;\">\n",
              "      <th></th>\n",
              "      <th>COUNTY</th>\n",
              "      <th>TestType</th>\n",
              "      <th>Count</th>\n",
              "      <th>RatePerMillion</th>\n",
              "      <th>Updated</th>\n",
              "      <th>Region</th>\n",
              "    </tr>\n",
              "  </thead>\n",
              "  <tbody>\n",
              "    <tr>\n",
              "      <th>0</th>\n",
              "      <td>Alcona</td>\n",
              "      <td>Diagnostic</td>\n",
              "      <td>1974</td>\n",
              "      <td>189716.0</td>\n",
              "      <td>2020/09/17 13:31:36</td>\n",
              "      <td>Northeast</td>\n",
              "    </tr>\n",
              "    <tr>\n",
              "      <th>1</th>\n",
              "      <td>Alcona</td>\n",
              "      <td>Serology</td>\n",
              "      <td>51</td>\n",
              "      <td>4901.0</td>\n",
              "      <td>2020/09/17 13:31:36</td>\n",
              "      <td>Northeast</td>\n",
              "    </tr>\n",
              "    <tr>\n",
              "      <th>2</th>\n",
              "      <td>Alcona</td>\n",
              "      <td>Total</td>\n",
              "      <td>2025</td>\n",
              "      <td>194618.0</td>\n",
              "      <td>2020/09/17 13:31:36</td>\n",
              "      <td>Northeast</td>\n",
              "    </tr>\n",
              "    <tr>\n",
              "      <th>3</th>\n",
              "      <td>Alger</td>\n",
              "      <td>Serology</td>\n",
              "      <td>66</td>\n",
              "      <td>7246.0</td>\n",
              "      <td>2020/09/17 13:31:36</td>\n",
              "      <td>Upper Peninsula</td>\n",
              "    </tr>\n",
              "    <tr>\n",
              "      <th>4</th>\n",
              "      <td>Alger</td>\n",
              "      <td>Diagnostic</td>\n",
              "      <td>1156</td>\n",
              "      <td>126921.0</td>\n",
              "      <td>2020/09/17 13:31:36</td>\n",
              "      <td>Upper Peninsula</td>\n",
              "    </tr>\n",
              "    <tr>\n",
              "      <th>...</th>\n",
              "      <td>...</td>\n",
              "      <td>...</td>\n",
              "      <td>...</td>\n",
              "      <td>...</td>\n",
              "      <td>...</td>\n",
              "      <td>...</td>\n",
              "    </tr>\n",
              "    <tr>\n",
              "      <th>253</th>\n",
              "      <td>Wayne</td>\n",
              "      <td>Serology</td>\n",
              "      <td>40636</td>\n",
              "      <td>36814.0</td>\n",
              "      <td>2020/09/17 13:31:36</td>\n",
              "      <td>Southeast</td>\n",
              "    </tr>\n",
              "    <tr>\n",
              "      <th>254</th>\n",
              "      <td>Wayne</td>\n",
              "      <td>Total</td>\n",
              "      <td>416039</td>\n",
              "      <td>376911.0</td>\n",
              "      <td>2020/09/17 13:31:36</td>\n",
              "      <td>Southeast</td>\n",
              "    </tr>\n",
              "    <tr>\n",
              "      <th>255</th>\n",
              "      <td>Wexford</td>\n",
              "      <td>Diagnostic</td>\n",
              "      <td>7712</td>\n",
              "      <td>229312.0</td>\n",
              "      <td>2020/09/17 13:31:36</td>\n",
              "      <td>Northwest</td>\n",
              "    </tr>\n",
              "    <tr>\n",
              "      <th>256</th>\n",
              "      <td>Wexford</td>\n",
              "      <td>Serology</td>\n",
              "      <td>230</td>\n",
              "      <td>6839.0</td>\n",
              "      <td>2020/09/17 13:31:36</td>\n",
              "      <td>Northwest</td>\n",
              "    </tr>\n",
              "    <tr>\n",
              "      <th>257</th>\n",
              "      <td>Wexford</td>\n",
              "      <td>Total</td>\n",
              "      <td>7942</td>\n",
              "      <td>236151.0</td>\n",
              "      <td>2020/09/17 13:31:36</td>\n",
              "      <td>Northwest</td>\n",
              "    </tr>\n",
              "  </tbody>\n",
              "</table>\n",
              "<p>249 rows × 6 columns</p>\n",
              "</div>"
            ],
            "text/plain": [
              "      COUNTY    TestType  ...              Updated           Region\n",
              "0     Alcona  Diagnostic  ...  2020/09/17 13:31:36        Northeast\n",
              "1     Alcona    Serology  ...  2020/09/17 13:31:36        Northeast\n",
              "2     Alcona       Total  ...  2020/09/17 13:31:36        Northeast\n",
              "3      Alger    Serology  ...  2020/09/17 13:31:36  Upper Peninsula\n",
              "4      Alger  Diagnostic  ...  2020/09/17 13:31:36  Upper Peninsula\n",
              "..       ...         ...  ...                  ...              ...\n",
              "253    Wayne    Serology  ...  2020/09/17 13:31:36        Southeast\n",
              "254    Wayne       Total  ...  2020/09/17 13:31:36        Southeast\n",
              "255  Wexford  Diagnostic  ...  2020/09/17 13:31:36        Northwest\n",
              "256  Wexford    Serology  ...  2020/09/17 13:31:36        Northwest\n",
              "257  Wexford       Total  ...  2020/09/17 13:31:36        Northwest\n",
              "\n",
              "[249 rows x 6 columns]"
            ]
          },
          "metadata": {
            "tags": []
          },
          "execution_count": 8
        }
      ]
    },
    {
      "cell_type": "markdown",
      "metadata": {
        "id": "V7MXs83Laq7i"
      },
      "source": [
        "Before I start my analysis, I want to group my counties based on what region of the state they are in. To do this, I divided up the counties in the lower peninsula into four quadrants:\n",
        "*    Northeast\n",
        "*    Northwest\n",
        "*    Southeast\n",
        "*    Southwest\n"
      ]
    },
    {
      "cell_type": "markdown",
      "metadata": {
        "id": "_BO-OftEbWig"
      },
      "source": [
        "I also added a region for all of the counties in the Upper Peninsula"
      ]
    },
    {
      "cell_type": "markdown",
      "metadata": {
        "id": "9KPi9rpH1E1Y"
      },
      "source": [
        "**Step 5: General Analysis**"
      ]
    },
    {
      "cell_type": "markdown",
      "metadata": {
        "id": "O1D12Ul-thF-"
      },
      "source": [
        "*Before I start, I think it's important to define some terms. There are two tests that are being given to patients in Michigan: Diagnostic tests and Serology Tests. Here is a brief definition of both:*\n",
        "*   *Diagnostic Test is performed to see if the patient has Covid. These are done typically with nasal swabbing.*\n",
        "*   *Serology test is performed to see if the patient had covid at some point. These are done by looking for antibodies in the blood.*"
      ]
    },
    {
      "cell_type": "markdown",
      "metadata": {
        "id": "R_hevUH3h1An"
      },
      "source": [
        "*There is also a column of data given that is stated as \"Rate Per Million.\" I went back to the source of the original dataset and was unable to find a concrete definition for this variable, so I'm going to take the liberty to define it based on what I **THINK** it is. Going forward, I am going to define this variable as the **INFECTION** Rate per Million.*"
      ]
    },
    {
      "cell_type": "code",
      "metadata": {
        "id": "oYv2ywSk947J"
      },
      "source": [
        "CovidByCounty_Total = CovidByCounty_df2.loc[CovidByCounty_df2['TestType'] == 'Total']\n",
        "CovidByCounty_Diagnostic = CovidByCounty_df2.loc[CovidByCounty_df2['TestType'] == 'Diagnostic']\n",
        "CovidByCounty_Serology = CovidByCounty_df2.loc[CovidByCounty_df2['TestType'] == 'Serology']\n",
        "CBC_Diag_SE = CovidByCounty_Diagnostic.loc[CovidByCounty_Diagnostic['Region'] == 'Southeast']\n",
        "CBC_Diag_SW = CovidByCounty_Diagnostic.loc[CovidByCounty_Diagnostic['Region'] == 'Southwest']\n",
        "CBC_Diag_NE = CovidByCounty_Diagnostic.loc[CovidByCounty_Diagnostic['Region'] == 'Northeast']\n",
        "CBC_Diag_NW = CovidByCounty_Diagnostic.loc[CovidByCounty_Diagnostic['Region'] == 'Northwest']\n",
        "CBC_Diag_UP = CovidByCounty_Diagnostic.loc[CovidByCounty_Diagnostic['Region'] == 'Upper Peninsula']\n",
        "\n",
        "CBC_Serol_SE = CovidByCounty_Serology.loc[CovidByCounty_Serology['Region'] == 'Southeast']\n",
        "CBC_Serol_SW = CovidByCounty_Serology.loc[CovidByCounty_Serology['Region'] == 'Southwest']\n",
        "CBC_Serol_NE = CovidByCounty_Serology.loc[CovidByCounty_Serology['Region'] == 'Northeast']\n",
        "CBC_Serol_NW = CovidByCounty_Serology.loc[CovidByCounty_Serology['Region'] == 'Northwest']\n",
        "CBC_Serol_UP = CovidByCounty_Serology.loc[CovidByCounty_Serology['Region'] == 'Upper Peninsula']"
      ],
      "execution_count": null,
      "outputs": []
    },
    {
      "cell_type": "markdown",
      "metadata": {
        "id": "aFzoEk9_714f"
      },
      "source": [
        "First thing I want to look at are the Serology counts, the Diagnostic counts, and the Total counts separately. To do this, I created three separate dataframes that filter off of the dataframe that has already been cleaned. After I did that step, I ran the describe function to make sure that the filter worked."
      ]
    },
    {
      "cell_type": "code",
      "metadata": {
        "id": "skYVF6z1kFXR",
        "colab": {
          "base_uri": "https://localhost:8080/",
          "height": 52
        },
        "outputId": "75e56f06-6b04-4179-8ed6-ffc414498043"
      },
      "source": [
        "percent_serology = round((CovidByCounty_Serology['Count'].sum() / CovidByCounty_Total['Count'].sum())*100, 0)\n",
        "print(int(percent_serology))\n",
        "percent_diagnostic = round((CovidByCounty_Diagnostic['Count'].sum() / CovidByCounty_Total['Count'].sum())*100, 0)\n",
        "print(int(percent_diagnostic))"
      ],
      "execution_count": null,
      "outputs": [
        {
          "output_type": "stream",
          "text": [
            "8\n",
            "92\n"
          ],
          "name": "stdout"
        }
      ]
    },
    {
      "cell_type": "code",
      "metadata": {
        "id": "7wBG90aFrLtE",
        "colab": {
          "base_uri": "https://localhost:8080/",
          "height": 264
        },
        "outputId": "657c3711-3cbf-4275-95e7-21dfdbd6e988"
      },
      "source": [
        "fig, ax = plt.subplots()\n",
        "\n",
        "labels = ['Diagnostic Testing',\n",
        "         'Serology Testing']\n",
        "percentages = [percent_diagnostic, percent_serology]\n",
        "explode=(0.1,0)\n",
        "\n",
        "ax.pie(percentages, explode=explode, labels=labels, autopct='%1.0f%%', shadow=False, startangle=0, pctdistance=1.2,labeldistance=1.4)\n",
        "ax.axis('equal')\n",
        "\n",
        "ax.set_title(\"Test Type Make-up in Michigan\")\n",
        "ax.legend(frameon=True, bbox_to_anchor=(1.5,0.8))\n",
        "plt.show()"
      ],
      "execution_count": null,
      "outputs": [
        {
          "output_type": "display_data",
          "data": {
            "image/png": "[encoded data removed]",
            "text/plain": [
              "<Figure size 432x288 with 1 Axes>"
            ]
          },
          "metadata": {
            "tags": []
          }
        }
      ]
    },
    {
      "cell_type": "markdown",
      "metadata": {
        "id": "PwCoQijktF2y"
      },
      "source": [
        "The pie chart above shows the test type make up of the data table. So 92% of all the tests done in the State of Michigan are the diagnostic tests, and the remaining 8% are the serology tests. This makes sense due to diagnostic tests being a quick nasal swab that can be done from a drive throughand a serology test being a blood draw, which is a sit-down process."
      ]
    },
    {
      "cell_type": "code",
      "metadata": {
        "id": "lCUDqlIn9LVM",
        "colab": {
          "base_uri": "https://localhost:8080/",
          "height": 104
        },
        "outputId": "7b063b59-eab1-4c28-e72e-35322ed20829"
      },
      "source": [
        "percent_diaSE = round((CBC_Diag_SE['Count'].sum() / CovidByCounty_Diagnostic['Count'].sum())*100 + 1, 0)\n",
        "print(int(percent_diaSE))\n",
        "percent_diaSW = round((CBC_Diag_SW['Count'].sum() / CovidByCounty_Diagnostic['Count'].sum())*100, 0)\n",
        "print(int(percent_diaSW))\n",
        "percent_diaNE = round((CBC_Diag_NE['Count'].sum() / CovidByCounty_Diagnostic['Count'].sum())*100, 0)\n",
        "print(int(percent_diaNE))\n",
        "percent_diaNW = round((CBC_Diag_NW['Count'].sum() / CovidByCounty_Diagnostic['Count'].sum())*100, 0)\n",
        "print(int(percent_diaNE))\n",
        "percent_diaUP = round((CBC_Diag_UP['Count'].sum() / CovidByCounty_Diagnostic['Count'].sum())*100, 0)\n",
        "print(int(percent_diaUP))"
      ],
      "execution_count": null,
      "outputs": [
        {
          "output_type": "stream",
          "text": [
            "62\n",
            "31\n",
            "2\n",
            "2\n",
            "3\n"
          ],
          "name": "stdout"
        }
      ]
    },
    {
      "cell_type": "code",
      "metadata": {
        "id": "68m0P14wCc0B",
        "colab": {
          "base_uri": "https://localhost:8080/",
          "height": 264
        },
        "outputId": "f3b412f3-7ced-445b-dfb0-8b2625b1f782"
      },
      "source": [
        "fig, ax = plt.subplots()\n",
        "\n",
        "labels = ['Southeast Diagnostic Testing',\n",
        "         'Southwest Diagnostic Testing' , 'Northeast Diagnostic Testing' , 'Northwest Diagnostic Testing' , 'UP Diagnostic Testing']\n",
        "percentages = [percent_diaSE , percent_diaSW , percent_diaNE , percent_diaNW , percent_diaUP]\n",
        "explode=(0.05,0,0,0,0)\n",
        "\n",
        "ax.pie(percentages, explode=explode, labels=labels, autopct='%1.0f%%', shadow=False, startangle=45, pctdistance=1.2,labeldistance=1.4)\n",
        "\n",
        "ax.set_title(\"Diagnostic Tests by Region\")\n",
        "ax.legend(loc = 'upper left' , frameon=True, bbox_to_anchor=(1.5,0.8))\n",
        "\n",
        "ax.axis('equal')\n",
        "plt.show()"
      ],
      "execution_count": null,
      "outputs": [
        {
          "output_type": "display_data",
          "data": {
            "image/png": "[encoded data removed]",
            "text/plain": [
              "<Figure size 432x288 with 1 Axes>"
            ]
          },
          "metadata": {
            "tags": []
          }
        }
      ]
    },
    {
      "cell_type": "markdown",
      "metadata": {
        "id": "heV-q3WXLD8C"
      },
      "source": [
        "The piechart above breaks out the proportion of Diagnostic Tests by region. As you can see, the Southeast region of the state has performed the overwhelming majority of diagnostic testing, followed by the Southwest region. "
      ]
    },
    {
      "cell_type": "code",
      "metadata": {
        "id": "W7XYrCexQXqg",
        "colab": {
          "base_uri": "https://localhost:8080/",
          "height": 104
        },
        "outputId": "9a214ad7-15de-48c6-b014-ced9aea8ca4e"
      },
      "source": [
        "percent_serolSE = round((CBC_Serol_SE['Count'].sum() / CovidByCounty_Serology['Count'].sum())*100 + 1, 0)\n",
        "print(int(percent_serolSE))\n",
        "percent_serolSW = round((CBC_Serol_SW['Count'].sum() / CovidByCounty_Serology['Count'].sum())*100, 0)\n",
        "print(int(percent_serolSW))\n",
        "percent_serolNE = round((CBC_Serol_NE['Count'].sum() / CovidByCounty_Serology['Count'].sum())*100, 0)\n",
        "print(int(percent_serolNE))\n",
        "percent_serolNW = round((CBC_Serol_NW['Count'].sum() / CovidByCounty_Serology['Count'].sum())*100, 0)\n",
        "print(int(percent_serolNE))\n",
        "percent_serolUP = round((CBC_Serol_UP['Count'].sum() / CovidByCounty_Serology['Count'].sum())*100, 0)\n",
        "print(int(percent_serolUP))"
      ],
      "execution_count": null,
      "outputs": [
        {
          "output_type": "stream",
          "text": [
            "80\n",
            "17\n",
            "1\n",
            "1\n",
            "1\n"
          ],
          "name": "stdout"
        }
      ]
    },
    {
      "cell_type": "code",
      "metadata": {
        "id": "RZP21GCYRjBP",
        "colab": {
          "base_uri": "https://localhost:8080/",
          "height": 264
        },
        "outputId": "bdcbc76d-ad30-4bcb-af22-f8c8ea64fb38"
      },
      "source": [
        "fig, ax = plt.subplots()\n",
        "\n",
        "labels = ['Southeast Serology Testing',\n",
        "         'Southwest Serology Testing' , 'Northeast Serology Testing' , 'Northwest Serology Testing' , 'UP Serology Testing']\n",
        "percentages = [percent_serolSE , percent_serolSW , percent_serolNE , percent_serolNW , percent_serolUP]\n",
        "explode=(0.05,0,0,0,0)\n",
        "\n",
        "ax.pie(percentages, explode=explode, labels=labels, autopct='%1.0f%%', shadow=False, startangle=20, pctdistance=1.4,labeldistance=1.6)\n",
        "\n",
        "ax.set_title(\"Serology Tests by Region\")\n",
        "ax.legend(loc = 'upper left' , frameon=True, bbox_to_anchor=(1.5,0.8))\n",
        "\n",
        "ax.axis('equal')\n",
        "plt.show()"
      ],
      "execution_count": null,
      "outputs": [
        {
          "output_type": "display_data",
          "data": {
            "image/png": "[encoded data removed]",
            "text/plain": [
              "<Figure size 432x288 with 1 Axes>"
            ]
          },
          "metadata": {
            "tags": []
          }
        }
      ]
    },
    {
      "cell_type": "markdown",
      "metadata": {
        "id": "QZ3cW8ROXHNP"
      },
      "source": [
        "As with the previous piechart, the chart above looks at the proportion of Serology Tests by region. Similar to diagnostic testing, serology tests are being performed primarily in the Southeast regaion followed by the Southwest"
      ]
    },
    {
      "cell_type": "markdown",
      "metadata": {
        "id": "5CngmPxEYat6"
      },
      "source": [
        "**Step 5: Deeper Analysis - Southeast Michigan**"
      ]
    },
    {
      "cell_type": "markdown",
      "metadata": {
        "id": "ZzJ_Jx0PYq_7"
      },
      "source": [
        "As shown in the pie charts above, a majority of the testing is taking place in the Southeast region of Michigan. This shouldn't be too surprising, given that the region has the heaviest population out of all the other regions. This section will take a closer look at the Southeast part of the state"
      ]
    },
    {
      "cell_type": "code",
      "metadata": {
        "id": "ioI_ivxUc8yn",
        "colab": {
          "base_uri": "https://localhost:8080/",
          "height": 1000
        },
        "outputId": "8d9af312-1b87-48bc-a60d-8cb2c766dbc3"
      },
      "source": [
        "CovidByCounty_TotalSE = CovidByCounty_df2.loc[CovidByCounty_df2['Region'] == 'Southeast']\n",
        "CovidByCounty_TotalSE"
      ],
      "execution_count": null,
      "outputs": [
        {
          "output_type": "execute_result",
          "data": {
            "text/html": [
              "<div>\n",
              "<style scoped>\n",
              "    .dataframe tbody tr th:only-of-type {\n",
              "        vertical-align: middle;\n",
              "    }\n",
              "\n",
              "    .dataframe tbody tr th {\n",
              "        vertical-align: top;\n",
              "    }\n",
              "\n",
              "    .dataframe thead th {\n",
              "        text-align: right;\n",
              "    }\n",
              "</style>\n",
              "<table border=\"1\" class=\"dataframe\">\n",
              "  <thead>\n",
              "    <tr style=\"text-align: right;\">\n",
              "      <th></th>\n",
              "      <th>COUNTY</th>\n",
              "      <th>TestType</th>\n",
              "      <th>Count</th>\n",
              "      <th>RatePerMillion</th>\n",
              "      <th>Updated</th>\n",
              "      <th>Region</th>\n",
              "    </tr>\n",
              "  </thead>\n",
              "  <tbody>\n",
              "    <tr>\n",
              "      <th>24</th>\n",
              "      <td>Bay</td>\n",
              "      <td>Diagnostic</td>\n",
              "      <td>33152</td>\n",
              "      <td>321471.0</td>\n",
              "      <td>2020/09/17 13:31:36</td>\n",
              "      <td>Southeast</td>\n",
              "    </tr>\n",
              "    <tr>\n",
              "      <th>25</th>\n",
              "      <td>Bay</td>\n",
              "      <td>Serology</td>\n",
              "      <td>1737</td>\n",
              "      <td>16843.0</td>\n",
              "      <td>2020/09/17 13:31:36</td>\n",
              "      <td>Southeast</td>\n",
              "    </tr>\n",
              "    <tr>\n",
              "      <th>26</th>\n",
              "      <td>Bay</td>\n",
              "      <td>Total</td>\n",
              "      <td>34889</td>\n",
              "      <td>338314.0</td>\n",
              "      <td>2020/09/17 13:31:36</td>\n",
              "      <td>Southeast</td>\n",
              "    </tr>\n",
              "    <tr>\n",
              "      <th>78</th>\n",
              "      <td>Genesee</td>\n",
              "      <td>Diagnostic</td>\n",
              "      <td>89810</td>\n",
              "      <td>221309.0</td>\n",
              "      <td>2020/09/17 13:31:36</td>\n",
              "      <td>Southeast</td>\n",
              "    </tr>\n",
              "    <tr>\n",
              "      <th>79</th>\n",
              "      <td>Genesee</td>\n",
              "      <td>Serology</td>\n",
              "      <td>10648</td>\n",
              "      <td>26239.0</td>\n",
              "      <td>2020/09/17 13:31:36</td>\n",
              "      <td>Southeast</td>\n",
              "    </tr>\n",
              "    <tr>\n",
              "      <th>80</th>\n",
              "      <td>Genesee</td>\n",
              "      <td>Total</td>\n",
              "      <td>100458</td>\n",
              "      <td>247548.0</td>\n",
              "      <td>2020/09/17 13:31:36</td>\n",
              "      <td>Southeast</td>\n",
              "    </tr>\n",
              "    <tr>\n",
              "      <th>93</th>\n",
              "      <td>Hillsdale</td>\n",
              "      <td>Serology</td>\n",
              "      <td>294</td>\n",
              "      <td>6447.0</td>\n",
              "      <td>2020/09/17 13:31:36</td>\n",
              "      <td>Southeast</td>\n",
              "    </tr>\n",
              "    <tr>\n",
              "      <th>94</th>\n",
              "      <td>Hillsdale</td>\n",
              "      <td>Diagnostic</td>\n",
              "      <td>10679</td>\n",
              "      <td>234163.0</td>\n",
              "      <td>2020/09/17 13:31:36</td>\n",
              "      <td>Southeast</td>\n",
              "    </tr>\n",
              "    <tr>\n",
              "      <th>95</th>\n",
              "      <td>Hillsdale</td>\n",
              "      <td>Total</td>\n",
              "      <td>10973</td>\n",
              "      <td>240610.0</td>\n",
              "      <td>2020/09/17 13:31:36</td>\n",
              "      <td>Southeast</td>\n",
              "    </tr>\n",
              "    <tr>\n",
              "      <th>99</th>\n",
              "      <td>Huron</td>\n",
              "      <td>Diagnostic</td>\n",
              "      <td>8883</td>\n",
              "      <td>286724.0</td>\n",
              "      <td>2020/09/17 13:31:36</td>\n",
              "      <td>Southeast</td>\n",
              "    </tr>\n",
              "    <tr>\n",
              "      <th>100</th>\n",
              "      <td>Huron</td>\n",
              "      <td>Serology</td>\n",
              "      <td>266</td>\n",
              "      <td>8586.0</td>\n",
              "      <td>2020/09/17 13:31:36</td>\n",
              "      <td>Southeast</td>\n",
              "    </tr>\n",
              "    <tr>\n",
              "      <th>101</th>\n",
              "      <td>Huron</td>\n",
              "      <td>Total</td>\n",
              "      <td>9149</td>\n",
              "      <td>295310.0</td>\n",
              "      <td>2020/09/17 13:31:36</td>\n",
              "      <td>Southeast</td>\n",
              "    </tr>\n",
              "    <tr>\n",
              "      <th>102</th>\n",
              "      <td>Ingham</td>\n",
              "      <td>Diagnostic</td>\n",
              "      <td>100272</td>\n",
              "      <td>342920.0</td>\n",
              "      <td>2020/09/17 13:31:36</td>\n",
              "      <td>Southeast</td>\n",
              "    </tr>\n",
              "    <tr>\n",
              "      <th>103</th>\n",
              "      <td>Ingham</td>\n",
              "      <td>Serology</td>\n",
              "      <td>12920</td>\n",
              "      <td>44185.0</td>\n",
              "      <td>2020/09/17 13:31:36</td>\n",
              "      <td>Southeast</td>\n",
              "    </tr>\n",
              "    <tr>\n",
              "      <th>104</th>\n",
              "      <td>Ingham</td>\n",
              "      <td>Total</td>\n",
              "      <td>113192</td>\n",
              "      <td>387106.0</td>\n",
              "      <td>2020/09/17 13:31:36</td>\n",
              "      <td>Southeast</td>\n",
              "    </tr>\n",
              "    <tr>\n",
              "      <th>117</th>\n",
              "      <td>Jackson</td>\n",
              "      <td>Serology</td>\n",
              "      <td>1382</td>\n",
              "      <td>8719.0</td>\n",
              "      <td>2020/09/17 13:31:36</td>\n",
              "      <td>Southeast</td>\n",
              "    </tr>\n",
              "    <tr>\n",
              "      <th>118</th>\n",
              "      <td>Jackson</td>\n",
              "      <td>Diagnostic</td>\n",
              "      <td>57861</td>\n",
              "      <td>365031.0</td>\n",
              "      <td>2020/09/17 13:31:36</td>\n",
              "      <td>Southeast</td>\n",
              "    </tr>\n",
              "    <tr>\n",
              "      <th>119</th>\n",
              "      <td>Jackson</td>\n",
              "      <td>Total</td>\n",
              "      <td>59243</td>\n",
              "      <td>373749.0</td>\n",
              "      <td>2020/09/17 13:31:36</td>\n",
              "      <td>Southeast</td>\n",
              "    </tr>\n",
              "    <tr>\n",
              "      <th>135</th>\n",
              "      <td>Lapeer</td>\n",
              "      <td>Diagnostic</td>\n",
              "      <td>16174</td>\n",
              "      <td>184620.0</td>\n",
              "      <td>2020/09/17 13:31:36</td>\n",
              "      <td>Southeast</td>\n",
              "    </tr>\n",
              "    <tr>\n",
              "      <th>136</th>\n",
              "      <td>Lapeer</td>\n",
              "      <td>Serology</td>\n",
              "      <td>1599</td>\n",
              "      <td>18252.0</td>\n",
              "      <td>2020/09/17 13:31:36</td>\n",
              "      <td>Southeast</td>\n",
              "    </tr>\n",
              "    <tr>\n",
              "      <th>137</th>\n",
              "      <td>Lapeer</td>\n",
              "      <td>Total</td>\n",
              "      <td>17773</td>\n",
              "      <td>202872.0</td>\n",
              "      <td>2020/09/17 13:31:36</td>\n",
              "      <td>Southeast</td>\n",
              "    </tr>\n",
              "    <tr>\n",
              "      <th>141</th>\n",
              "      <td>Lenawee</td>\n",
              "      <td>Serology</td>\n",
              "      <td>774</td>\n",
              "      <td>7862.0</td>\n",
              "      <td>2020/09/17 13:31:36</td>\n",
              "      <td>Southeast</td>\n",
              "    </tr>\n",
              "    <tr>\n",
              "      <th>142</th>\n",
              "      <td>Lenawee</td>\n",
              "      <td>Diagnostic</td>\n",
              "      <td>22838</td>\n",
              "      <td>231973.0</td>\n",
              "      <td>2020/09/17 13:31:36</td>\n",
              "      <td>Southeast</td>\n",
              "    </tr>\n",
              "    <tr>\n",
              "      <th>143</th>\n",
              "      <td>Lenawee</td>\n",
              "      <td>Total</td>\n",
              "      <td>23612</td>\n",
              "      <td>239835.0</td>\n",
              "      <td>2020/09/17 13:31:36</td>\n",
              "      <td>Southeast</td>\n",
              "    </tr>\n",
              "    <tr>\n",
              "      <th>144</th>\n",
              "      <td>Livingston</td>\n",
              "      <td>Serology</td>\n",
              "      <td>4409</td>\n",
              "      <td>22964.0</td>\n",
              "      <td>2020/09/17 13:31:36</td>\n",
              "      <td>Southeast</td>\n",
              "    </tr>\n",
              "    <tr>\n",
              "      <th>145</th>\n",
              "      <td>Livingston</td>\n",
              "      <td>Diagnostic</td>\n",
              "      <td>51542</td>\n",
              "      <td>268455.0</td>\n",
              "      <td>2020/09/17 13:31:36</td>\n",
              "      <td>Southeast</td>\n",
              "    </tr>\n",
              "    <tr>\n",
              "      <th>146</th>\n",
              "      <td>Livingston</td>\n",
              "      <td>Total</td>\n",
              "      <td>55951</td>\n",
              "      <td>291419.0</td>\n",
              "      <td>2020/09/17 13:31:36</td>\n",
              "      <td>Southeast</td>\n",
              "    </tr>\n",
              "    <tr>\n",
              "      <th>153</th>\n",
              "      <td>Macomb</td>\n",
              "      <td>Serology</td>\n",
              "      <td>28130</td>\n",
              "      <td>32186.0</td>\n",
              "      <td>2020/09/17 13:31:36</td>\n",
              "      <td>Southeast</td>\n",
              "    </tr>\n",
              "    <tr>\n",
              "      <th>154</th>\n",
              "      <td>Macomb</td>\n",
              "      <td>Diagnostic</td>\n",
              "      <td>222400</td>\n",
              "      <td>254470.0</td>\n",
              "      <td>2020/09/17 13:31:36</td>\n",
              "      <td>Southeast</td>\n",
              "    </tr>\n",
              "    <tr>\n",
              "      <th>155</th>\n",
              "      <td>Macomb</td>\n",
              "      <td>Total</td>\n",
              "      <td>250530</td>\n",
              "      <td>286657.0</td>\n",
              "      <td>2020/09/17 13:31:36</td>\n",
              "      <td>Southeast</td>\n",
              "    </tr>\n",
              "    <tr>\n",
              "      <th>171</th>\n",
              "      <td>Midland</td>\n",
              "      <td>Serology</td>\n",
              "      <td>1365</td>\n",
              "      <td>16415.0</td>\n",
              "      <td>2020/09/17 13:31:36</td>\n",
              "      <td>Southeast</td>\n",
              "    </tr>\n",
              "    <tr>\n",
              "      <th>172</th>\n",
              "      <td>Midland</td>\n",
              "      <td>Diagnostic</td>\n",
              "      <td>12623</td>\n",
              "      <td>151799.0</td>\n",
              "      <td>2020/09/17 13:31:36</td>\n",
              "      <td>Southeast</td>\n",
              "    </tr>\n",
              "    <tr>\n",
              "      <th>173</th>\n",
              "      <td>Midland</td>\n",
              "      <td>Total</td>\n",
              "      <td>13988</td>\n",
              "      <td>168214.0</td>\n",
              "      <td>2020/09/17 13:31:36</td>\n",
              "      <td>Southeast</td>\n",
              "    </tr>\n",
              "    <tr>\n",
              "      <th>177</th>\n",
              "      <td>Monroe</td>\n",
              "      <td>Diagnostic</td>\n",
              "      <td>34542</td>\n",
              "      <td>229515.0</td>\n",
              "      <td>2020/09/17 13:31:36</td>\n",
              "      <td>Southeast</td>\n",
              "    </tr>\n",
              "    <tr>\n",
              "      <th>178</th>\n",
              "      <td>Monroe</td>\n",
              "      <td>Serology</td>\n",
              "      <td>2516</td>\n",
              "      <td>16718.0</td>\n",
              "      <td>2020/09/17 13:31:36</td>\n",
              "      <td>Southeast</td>\n",
              "    </tr>\n",
              "    <tr>\n",
              "      <th>179</th>\n",
              "      <td>Monroe</td>\n",
              "      <td>Total</td>\n",
              "      <td>37058</td>\n",
              "      <td>246233.0</td>\n",
              "      <td>2020/09/17 13:31:36</td>\n",
              "      <td>Southeast</td>\n",
              "    </tr>\n",
              "    <tr>\n",
              "      <th>192</th>\n",
              "      <td>Oakland</td>\n",
              "      <td>Diagnostic</td>\n",
              "      <td>351635</td>\n",
              "      <td>279612.0</td>\n",
              "      <td>2020/09/17 13:31:36</td>\n",
              "      <td>Southeast</td>\n",
              "    </tr>\n",
              "    <tr>\n",
              "      <th>193</th>\n",
              "      <td>Oakland</td>\n",
              "      <td>Serology</td>\n",
              "      <td>61704</td>\n",
              "      <td>49066.0</td>\n",
              "      <td>2020/09/17 13:31:36</td>\n",
              "      <td>Southeast</td>\n",
              "    </tr>\n",
              "    <tr>\n",
              "      <th>194</th>\n",
              "      <td>Oakland</td>\n",
              "      <td>Total</td>\n",
              "      <td>413339</td>\n",
              "      <td>328677.0</td>\n",
              "      <td>2020/09/17 13:31:36</td>\n",
              "      <td>Southeast</td>\n",
              "    </tr>\n",
              "    <tr>\n",
              "      <th>222</th>\n",
              "      <td>Saginaw</td>\n",
              "      <td>Diagnostic</td>\n",
              "      <td>72735</td>\n",
              "      <td>381733.0</td>\n",
              "      <td>2020/09/17 13:31:36</td>\n",
              "      <td>Southeast</td>\n",
              "    </tr>\n",
              "    <tr>\n",
              "      <th>223</th>\n",
              "      <td>Saginaw</td>\n",
              "      <td>Serology</td>\n",
              "      <td>1908</td>\n",
              "      <td>10014.0</td>\n",
              "      <td>2020/09/17 13:31:36</td>\n",
              "      <td>Southeast</td>\n",
              "    </tr>\n",
              "    <tr>\n",
              "      <th>224</th>\n",
              "      <td>Saginaw</td>\n",
              "      <td>Total</td>\n",
              "      <td>74643</td>\n",
              "      <td>391747.0</td>\n",
              "      <td>2020/09/17 13:31:36</td>\n",
              "      <td>Southeast</td>\n",
              "    </tr>\n",
              "    <tr>\n",
              "      <th>225</th>\n",
              "      <td>Sanilac</td>\n",
              "      <td>Diagnostic</td>\n",
              "      <td>11183</td>\n",
              "      <td>271630.0</td>\n",
              "      <td>2020/09/17 13:31:36</td>\n",
              "      <td>Southeast</td>\n",
              "    </tr>\n",
              "    <tr>\n",
              "      <th>226</th>\n",
              "      <td>Sanilac</td>\n",
              "      <td>Serology</td>\n",
              "      <td>464</td>\n",
              "      <td>11270.0</td>\n",
              "      <td>2020/09/17 13:31:36</td>\n",
              "      <td>Southeast</td>\n",
              "    </tr>\n",
              "    <tr>\n",
              "      <th>227</th>\n",
              "      <td>Sanilac</td>\n",
              "      <td>Total</td>\n",
              "      <td>11647</td>\n",
              "      <td>282900.0</td>\n",
              "      <td>2020/09/17 13:31:36</td>\n",
              "      <td>Southeast</td>\n",
              "    </tr>\n",
              "    <tr>\n",
              "      <th>231</th>\n",
              "      <td>Shiawassee</td>\n",
              "      <td>Diagnostic</td>\n",
              "      <td>17773</td>\n",
              "      <td>260900.0</td>\n",
              "      <td>2020/09/17 13:31:36</td>\n",
              "      <td>Southeast</td>\n",
              "    </tr>\n",
              "    <tr>\n",
              "      <th>232</th>\n",
              "      <td>Shiawassee</td>\n",
              "      <td>Serology</td>\n",
              "      <td>1458</td>\n",
              "      <td>21403.0</td>\n",
              "      <td>2020/09/17 13:31:36</td>\n",
              "      <td>Southeast</td>\n",
              "    </tr>\n",
              "    <tr>\n",
              "      <th>233</th>\n",
              "      <td>Shiawassee</td>\n",
              "      <td>Total</td>\n",
              "      <td>19231</td>\n",
              "      <td>282302.0</td>\n",
              "      <td>2020/09/17 13:31:36</td>\n",
              "      <td>Southeast</td>\n",
              "    </tr>\n",
              "    <tr>\n",
              "      <th>234</th>\n",
              "      <td>St Clair</td>\n",
              "      <td>Serology</td>\n",
              "      <td>4024</td>\n",
              "      <td>25288.0</td>\n",
              "      <td>2020/09/17 13:31:36</td>\n",
              "      <td>Southeast</td>\n",
              "    </tr>\n",
              "    <tr>\n",
              "      <th>235</th>\n",
              "      <td>St Clair</td>\n",
              "      <td>Diagnostic</td>\n",
              "      <td>31351</td>\n",
              "      <td>197017.0</td>\n",
              "      <td>2020/09/17 13:31:36</td>\n",
              "      <td>Southeast</td>\n",
              "    </tr>\n",
              "    <tr>\n",
              "      <th>236</th>\n",
              "      <td>St Clair</td>\n",
              "      <td>Total</td>\n",
              "      <td>35375</td>\n",
              "      <td>222305.0</td>\n",
              "      <td>2020/09/17 13:31:36</td>\n",
              "      <td>Southeast</td>\n",
              "    </tr>\n",
              "    <tr>\n",
              "      <th>240</th>\n",
              "      <td>Tuscola</td>\n",
              "      <td>Diagnostic</td>\n",
              "      <td>18438</td>\n",
              "      <td>352914.0</td>\n",
              "      <td>2020/09/17 13:31:36</td>\n",
              "      <td>Southeast</td>\n",
              "    </tr>\n",
              "    <tr>\n",
              "      <th>241</th>\n",
              "      <td>Tuscola</td>\n",
              "      <td>Serology</td>\n",
              "      <td>610</td>\n",
              "      <td>11676.0</td>\n",
              "      <td>2020/09/17 13:31:36</td>\n",
              "      <td>Southeast</td>\n",
              "    </tr>\n",
              "    <tr>\n",
              "      <th>242</th>\n",
              "      <td>Tuscola</td>\n",
              "      <td>Total</td>\n",
              "      <td>19048</td>\n",
              "      <td>364590.0</td>\n",
              "      <td>2020/09/17 13:31:36</td>\n",
              "      <td>Southeast</td>\n",
              "    </tr>\n",
              "    <tr>\n",
              "      <th>249</th>\n",
              "      <td>Washtenaw</td>\n",
              "      <td>Serology</td>\n",
              "      <td>10064</td>\n",
              "      <td>27378.0</td>\n",
              "      <td>2020/09/17 13:31:36</td>\n",
              "      <td>Southeast</td>\n",
              "    </tr>\n",
              "    <tr>\n",
              "      <th>250</th>\n",
              "      <td>Washtenaw</td>\n",
              "      <td>Diagnostic</td>\n",
              "      <td>128943</td>\n",
              "      <td>350769.0</td>\n",
              "      <td>2020/09/17 13:31:36</td>\n",
              "      <td>Southeast</td>\n",
              "    </tr>\n",
              "    <tr>\n",
              "      <th>251</th>\n",
              "      <td>Washtenaw</td>\n",
              "      <td>Total</td>\n",
              "      <td>139007</td>\n",
              "      <td>378146.0</td>\n",
              "      <td>2020/09/17 13:31:36</td>\n",
              "      <td>Southeast</td>\n",
              "    </tr>\n",
              "    <tr>\n",
              "      <th>252</th>\n",
              "      <td>Wayne</td>\n",
              "      <td>Diagnostic</td>\n",
              "      <td>375403</td>\n",
              "      <td>340097.0</td>\n",
              "      <td>2020/09/17 13:31:36</td>\n",
              "      <td>Southeast</td>\n",
              "    </tr>\n",
              "    <tr>\n",
              "      <th>253</th>\n",
              "      <td>Wayne</td>\n",
              "      <td>Serology</td>\n",
              "      <td>40636</td>\n",
              "      <td>36814.0</td>\n",
              "      <td>2020/09/17 13:31:36</td>\n",
              "      <td>Southeast</td>\n",
              "    </tr>\n",
              "    <tr>\n",
              "      <th>254</th>\n",
              "      <td>Wayne</td>\n",
              "      <td>Total</td>\n",
              "      <td>416039</td>\n",
              "      <td>376911.0</td>\n",
              "      <td>2020/09/17 13:31:36</td>\n",
              "      <td>Southeast</td>\n",
              "    </tr>\n",
              "  </tbody>\n",
              "</table>\n",
              "</div>"
            ],
            "text/plain": [
              "         COUNTY    TestType  ...              Updated     Region\n",
              "24          Bay  Diagnostic  ...  2020/09/17 13:31:36  Southeast\n",
              "25          Bay    Serology  ...  2020/09/17 13:31:36  Southeast\n",
              "26          Bay       Total  ...  2020/09/17 13:31:36  Southeast\n",
              "78      Genesee  Diagnostic  ...  2020/09/17 13:31:36  Southeast\n",
              "79      Genesee    Serology  ...  2020/09/17 13:31:36  Southeast\n",
              "80      Genesee       Total  ...  2020/09/17 13:31:36  Southeast\n",
              "93    Hillsdale    Serology  ...  2020/09/17 13:31:36  Southeast\n",
              "94    Hillsdale  Diagnostic  ...  2020/09/17 13:31:36  Southeast\n",
              "95    Hillsdale       Total  ...  2020/09/17 13:31:36  Southeast\n",
              "99        Huron  Diagnostic  ...  2020/09/17 13:31:36  Southeast\n",
              "100       Huron    Serology  ...  2020/09/17 13:31:36  Southeast\n",
              "101       Huron       Total  ...  2020/09/17 13:31:36  Southeast\n",
              "102      Ingham  Diagnostic  ...  2020/09/17 13:31:36  Southeast\n",
              "103      Ingham    Serology  ...  2020/09/17 13:31:36  Southeast\n",
              "104      Ingham       Total  ...  2020/09/17 13:31:36  Southeast\n",
              "117     Jackson    Serology  ...  2020/09/17 13:31:36  Southeast\n",
              "118     Jackson  Diagnostic  ...  2020/09/17 13:31:36  Southeast\n",
              "119     Jackson       Total  ...  2020/09/17 13:31:36  Southeast\n",
              "135      Lapeer  Diagnostic  ...  2020/09/17 13:31:36  Southeast\n",
              "136      Lapeer    Serology  ...  2020/09/17 13:31:36  Southeast\n",
              "137      Lapeer       Total  ...  2020/09/17 13:31:36  Southeast\n",
              "141     Lenawee    Serology  ...  2020/09/17 13:31:36  Southeast\n",
              "142     Lenawee  Diagnostic  ...  2020/09/17 13:31:36  Southeast\n",
              "143     Lenawee       Total  ...  2020/09/17 13:31:36  Southeast\n",
              "144  Livingston    Serology  ...  2020/09/17 13:31:36  Southeast\n",
              "145  Livingston  Diagnostic  ...  2020/09/17 13:31:36  Southeast\n",
              "146  Livingston       Total  ...  2020/09/17 13:31:36  Southeast\n",
              "153      Macomb    Serology  ...  2020/09/17 13:31:36  Southeast\n",
              "154      Macomb  Diagnostic  ...  2020/09/17 13:31:36  Southeast\n",
              "155      Macomb       Total  ...  2020/09/17 13:31:36  Southeast\n",
              "171     Midland    Serology  ...  2020/09/17 13:31:36  Southeast\n",
              "172     Midland  Diagnostic  ...  2020/09/17 13:31:36  Southeast\n",
              "173     Midland       Total  ...  2020/09/17 13:31:36  Southeast\n",
              "177      Monroe  Diagnostic  ...  2020/09/17 13:31:36  Southeast\n",
              "178      Monroe    Serology  ...  2020/09/17 13:31:36  Southeast\n",
              "179      Monroe       Total  ...  2020/09/17 13:31:36  Southeast\n",
              "192     Oakland  Diagnostic  ...  2020/09/17 13:31:36  Southeast\n",
              "193     Oakland    Serology  ...  2020/09/17 13:31:36  Southeast\n",
              "194     Oakland       Total  ...  2020/09/17 13:31:36  Southeast\n",
              "222     Saginaw  Diagnostic  ...  2020/09/17 13:31:36  Southeast\n",
              "223     Saginaw    Serology  ...  2020/09/17 13:31:36  Southeast\n",
              "224     Saginaw       Total  ...  2020/09/17 13:31:36  Southeast\n",
              "225     Sanilac  Diagnostic  ...  2020/09/17 13:31:36  Southeast\n",
              "226     Sanilac    Serology  ...  2020/09/17 13:31:36  Southeast\n",
              "227     Sanilac       Total  ...  2020/09/17 13:31:36  Southeast\n",
              "231  Shiawassee  Diagnostic  ...  2020/09/17 13:31:36  Southeast\n",
              "232  Shiawassee    Serology  ...  2020/09/17 13:31:36  Southeast\n",
              "233  Shiawassee       Total  ...  2020/09/17 13:31:36  Southeast\n",
              "234    St Clair    Serology  ...  2020/09/17 13:31:36  Southeast\n",
              "235    St Clair  Diagnostic  ...  2020/09/17 13:31:36  Southeast\n",
              "236    St Clair       Total  ...  2020/09/17 13:31:36  Southeast\n",
              "240     Tuscola  Diagnostic  ...  2020/09/17 13:31:36  Southeast\n",
              "241     Tuscola    Serology  ...  2020/09/17 13:31:36  Southeast\n",
              "242     Tuscola       Total  ...  2020/09/17 13:31:36  Southeast\n",
              "249   Washtenaw    Serology  ...  2020/09/17 13:31:36  Southeast\n",
              "250   Washtenaw  Diagnostic  ...  2020/09/17 13:31:36  Southeast\n",
              "251   Washtenaw       Total  ...  2020/09/17 13:31:36  Southeast\n",
              "252       Wayne  Diagnostic  ...  2020/09/17 13:31:36  Southeast\n",
              "253       Wayne    Serology  ...  2020/09/17 13:31:36  Southeast\n",
              "254       Wayne       Total  ...  2020/09/17 13:31:36  Southeast\n",
              "\n",
              "[60 rows x 6 columns]"
            ]
          },
          "metadata": {
            "tags": []
          },
          "execution_count": 16
        }
      ]
    },
    {
      "cell_type": "markdown",
      "metadata": {
        "id": "Q4LB2yQ8d2mE"
      },
      "source": [
        "So I created a data frame that has all of the testing data that only shows counties in Southeast Michigan"
      ]
    },
    {
      "cell_type": "code",
      "metadata": {
        "id": "uI0SWCOjeZH8",
        "colab": {
          "base_uri": "https://localhost:8080/",
          "height": 438
        },
        "outputId": "d78760db-7236-41a1-f2fa-d20f348b55b9"
      },
      "source": [
        "sns.factorplot(x = 'TestType' , y = 'Count' , hue = 'COUNTY' , data = CovidByCounty_TotalSE , kind = 'bar')\n",
        "plt.show()"
      ],
      "execution_count": null,
      "outputs": [
        {
          "output_type": "stream",
          "text": [
            "/usr/local/lib/python3.6/dist-packages/seaborn/categorical.py:3704: UserWarning: The `factorplot` function has been renamed to `catplot`. The original name will be removed in a future release. Please update your code. Note that the default `kind` in `factorplot` (`'point'`) has changed `'strip'` in `catplot`.\n",
            "  warnings.warn(msg)\n"
          ],
          "name": "stderr"
        },
        {
          "output_type": "display_data",
          "data": {
            "image/png": "[encoded data removed]",
            "text/plain": [
              "<Figure size 454.625x360 with 1 Axes>"
            ]
          },
          "metadata": {
            "tags": [],
            "needs_background": "light"
          }
        }
      ]
    },
    {
      "cell_type": "markdown",
      "metadata": {
        "id": "WUw4MMz6ggn4"
      },
      "source": [
        "Running a quick barplot that breaks out testing type counts by county, we can see that the heaviest numbers are coming from Wayne, Oakland, and Macomb counties respectively."
      ]
    },
    {
      "cell_type": "code",
      "metadata": {
        "id": "m1lPH6Iiit9M",
        "colab": {
          "base_uri": "https://localhost:8080/",
          "height": 438
        },
        "outputId": "dca6beeb-06fe-4659-87d5-c8fa605c4590"
      },
      "source": [
        "sns.factorplot(x = 'TestType' , y = 'RatePerMillion' , hue = 'COUNTY' , data = CovidByCounty_TotalSE , kind = 'bar')\n",
        "plt.show()"
      ],
      "execution_count": null,
      "outputs": [
        {
          "output_type": "stream",
          "text": [
            "/usr/local/lib/python3.6/dist-packages/seaborn/categorical.py:3704: UserWarning: The `factorplot` function has been renamed to `catplot`. The original name will be removed in a future release. Please update your code. Note that the default `kind` in `factorplot` (`'point'`) has changed `'strip'` in `catplot`.\n",
            "  warnings.warn(msg)\n"
          ],
          "name": "stderr"
        },
        {
          "output_type": "display_data",
          "data": {
            "image/png": "[encoded data removed]",
            "text/plain": [
              "<Figure size 454.625x360 with 1 Axes>"
            ]
          },
          "metadata": {
            "tags": [],
            "needs_background": "light"
          }
        }
      ]
    },
    {
      "cell_type": "markdown",
      "metadata": {
        "id": "MGfSveZEjIkB"
      },
      "source": [
        "Here is a quick bar plot that looks at the Rate Per Million. As stated above in step 5, I am interpreting this variable as the rate of infection per million. Since this variable is not clearly defined, I haven't used it up until now. Back to the bar plot: I'm noticing that the three largest counties based on population size do not have the highest infection per million rate. What could be happening here is the less populated counties in SOutheast Michigan might be experiencing similar rates of infection as the more populated counties, but when per million is factored in, those rates appear higher. "
      ]
    },
    {
      "cell_type": "code",
      "metadata": {
        "id": "L-3Zi5E3lN8k",
        "colab": {
          "base_uri": "https://localhost:8080/",
          "height": 1000
        },
        "outputId": "3d40eec8-4dfa-40b3-d4ce-a833d22cb798"
      },
      "source": [
        "CBC_TotalSEQuant = CovidByCounty_TotalSE.drop(['COUNTY' , 'TestType' , 'Updated' , 'Region'] , axis = 1)\n",
        "CBC_TotalSEQuant"
      ],
      "execution_count": null,
      "outputs": [
        {
          "output_type": "execute_result",
          "data": {
            "text/html": [
              "<div>\n",
              "<style scoped>\n",
              "    .dataframe tbody tr th:only-of-type {\n",
              "        vertical-align: middle;\n",
              "    }\n",
              "\n",
              "    .dataframe tbody tr th {\n",
              "        vertical-align: top;\n",
              "    }\n",
              "\n",
              "    .dataframe thead th {\n",
              "        text-align: right;\n",
              "    }\n",
              "</style>\n",
              "<table border=\"1\" class=\"dataframe\">\n",
              "  <thead>\n",
              "    <tr style=\"text-align: right;\">\n",
              "      <th></th>\n",
              "      <th>Count</th>\n",
              "      <th>RatePerMillion</th>\n",
              "    </tr>\n",
              "  </thead>\n",
              "  <tbody>\n",
              "    <tr>\n",
              "      <th>24</th>\n",
              "      <td>33152</td>\n",
              "      <td>321471.0</td>\n",
              "    </tr>\n",
              "    <tr>\n",
              "      <th>25</th>\n",
              "      <td>1737</td>\n",
              "      <td>16843.0</td>\n",
              "    </tr>\n",
              "    <tr>\n",
              "      <th>26</th>\n",
              "      <td>34889</td>\n",
              "      <td>338314.0</td>\n",
              "    </tr>\n",
              "    <tr>\n",
              "      <th>78</th>\n",
              "      <td>89810</td>\n",
              "      <td>221309.0</td>\n",
              "    </tr>\n",
              "    <tr>\n",
              "      <th>79</th>\n",
              "      <td>10648</td>\n",
              "      <td>26239.0</td>\n",
              "    </tr>\n",
              "    <tr>\n",
              "      <th>80</th>\n",
              "      <td>100458</td>\n",
              "      <td>247548.0</td>\n",
              "    </tr>\n",
              "    <tr>\n",
              "      <th>93</th>\n",
              "      <td>294</td>\n",
              "      <td>6447.0</td>\n",
              "    </tr>\n",
              "    <tr>\n",
              "      <th>94</th>\n",
              "      <td>10679</td>\n",
              "      <td>234163.0</td>\n",
              "    </tr>\n",
              "    <tr>\n",
              "      <th>95</th>\n",
              "      <td>10973</td>\n",
              "      <td>240610.0</td>\n",
              "    </tr>\n",
              "    <tr>\n",
              "      <th>99</th>\n",
              "      <td>8883</td>\n",
              "      <td>286724.0</td>\n",
              "    </tr>\n",
              "    <tr>\n",
              "      <th>100</th>\n",
              "      <td>266</td>\n",
              "      <td>8586.0</td>\n",
              "    </tr>\n",
              "    <tr>\n",
              "      <th>101</th>\n",
              "      <td>9149</td>\n",
              "      <td>295310.0</td>\n",
              "    </tr>\n",
              "    <tr>\n",
              "      <th>102</th>\n",
              "      <td>100272</td>\n",
              "      <td>342920.0</td>\n",
              "    </tr>\n",
              "    <tr>\n",
              "      <th>103</th>\n",
              "      <td>12920</td>\n",
              "      <td>44185.0</td>\n",
              "    </tr>\n",
              "    <tr>\n",
              "      <th>104</th>\n",
              "      <td>113192</td>\n",
              "      <td>387106.0</td>\n",
              "    </tr>\n",
              "    <tr>\n",
              "      <th>117</th>\n",
              "      <td>1382</td>\n",
              "      <td>8719.0</td>\n",
              "    </tr>\n",
              "    <tr>\n",
              "      <th>118</th>\n",
              "      <td>57861</td>\n",
              "      <td>365031.0</td>\n",
              "    </tr>\n",
              "    <tr>\n",
              "      <th>119</th>\n",
              "      <td>59243</td>\n",
              "      <td>373749.0</td>\n",
              "    </tr>\n",
              "    <tr>\n",
              "      <th>135</th>\n",
              "      <td>16174</td>\n",
              "      <td>184620.0</td>\n",
              "    </tr>\n",
              "    <tr>\n",
              "      <th>136</th>\n",
              "      <td>1599</td>\n",
              "      <td>18252.0</td>\n",
              "    </tr>\n",
              "    <tr>\n",
              "      <th>137</th>\n",
              "      <td>17773</td>\n",
              "      <td>202872.0</td>\n",
              "    </tr>\n",
              "    <tr>\n",
              "      <th>141</th>\n",
              "      <td>774</td>\n",
              "      <td>7862.0</td>\n",
              "    </tr>\n",
              "    <tr>\n",
              "      <th>142</th>\n",
              "      <td>22838</td>\n",
              "      <td>231973.0</td>\n",
              "    </tr>\n",
              "    <tr>\n",
              "      <th>143</th>\n",
              "      <td>23612</td>\n",
              "      <td>239835.0</td>\n",
              "    </tr>\n",
              "    <tr>\n",
              "      <th>144</th>\n",
              "      <td>4409</td>\n",
              "      <td>22964.0</td>\n",
              "    </tr>\n",
              "    <tr>\n",
              "      <th>145</th>\n",
              "      <td>51542</td>\n",
              "      <td>268455.0</td>\n",
              "    </tr>\n",
              "    <tr>\n",
              "      <th>146</th>\n",
              "      <td>55951</td>\n",
              "      <td>291419.0</td>\n",
              "    </tr>\n",
              "    <tr>\n",
              "      <th>153</th>\n",
              "      <td>28130</td>\n",
              "      <td>32186.0</td>\n",
              "    </tr>\n",
              "    <tr>\n",
              "      <th>154</th>\n",
              "      <td>222400</td>\n",
              "      <td>254470.0</td>\n",
              "    </tr>\n",
              "    <tr>\n",
              "      <th>155</th>\n",
              "      <td>250530</td>\n",
              "      <td>286657.0</td>\n",
              "    </tr>\n",
              "    <tr>\n",
              "      <th>171</th>\n",
              "      <td>1365</td>\n",
              "      <td>16415.0</td>\n",
              "    </tr>\n",
              "    <tr>\n",
              "      <th>172</th>\n",
              "      <td>12623</td>\n",
              "      <td>151799.0</td>\n",
              "    </tr>\n",
              "    <tr>\n",
              "      <th>173</th>\n",
              "      <td>13988</td>\n",
              "      <td>168214.0</td>\n",
              "    </tr>\n",
              "    <tr>\n",
              "      <th>177</th>\n",
              "      <td>34542</td>\n",
              "      <td>229515.0</td>\n",
              "    </tr>\n",
              "    <tr>\n",
              "      <th>178</th>\n",
              "      <td>2516</td>\n",
              "      <td>16718.0</td>\n",
              "    </tr>\n",
              "    <tr>\n",
              "      <th>179</th>\n",
              "      <td>37058</td>\n",
              "      <td>246233.0</td>\n",
              "    </tr>\n",
              "    <tr>\n",
              "      <th>192</th>\n",
              "      <td>351635</td>\n",
              "      <td>279612.0</td>\n",
              "    </tr>\n",
              "    <tr>\n",
              "      <th>193</th>\n",
              "      <td>61704</td>\n",
              "      <td>49066.0</td>\n",
              "    </tr>\n",
              "    <tr>\n",
              "      <th>194</th>\n",
              "      <td>413339</td>\n",
              "      <td>328677.0</td>\n",
              "    </tr>\n",
              "    <tr>\n",
              "      <th>222</th>\n",
              "      <td>72735</td>\n",
              "      <td>381733.0</td>\n",
              "    </tr>\n",
              "    <tr>\n",
              "      <th>223</th>\n",
              "      <td>1908</td>\n",
              "      <td>10014.0</td>\n",
              "    </tr>\n",
              "    <tr>\n",
              "      <th>224</th>\n",
              "      <td>74643</td>\n",
              "      <td>391747.0</td>\n",
              "    </tr>\n",
              "    <tr>\n",
              "      <th>225</th>\n",
              "      <td>11183</td>\n",
              "      <td>271630.0</td>\n",
              "    </tr>\n",
              "    <tr>\n",
              "      <th>226</th>\n",
              "      <td>464</td>\n",
              "      <td>11270.0</td>\n",
              "    </tr>\n",
              "    <tr>\n",
              "      <th>227</th>\n",
              "      <td>11647</td>\n",
              "      <td>282900.0</td>\n",
              "    </tr>\n",
              "    <tr>\n",
              "      <th>231</th>\n",
              "      <td>17773</td>\n",
              "      <td>260900.0</td>\n",
              "    </tr>\n",
              "    <tr>\n",
              "      <th>232</th>\n",
              "      <td>1458</td>\n",
              "      <td>21403.0</td>\n",
              "    </tr>\n",
              "    <tr>\n",
              "      <th>233</th>\n",
              "      <td>19231</td>\n",
              "      <td>282302.0</td>\n",
              "    </tr>\n",
              "    <tr>\n",
              "      <th>234</th>\n",
              "      <td>4024</td>\n",
              "      <td>25288.0</td>\n",
              "    </tr>\n",
              "    <tr>\n",
              "      <th>235</th>\n",
              "      <td>31351</td>\n",
              "      <td>197017.0</td>\n",
              "    </tr>\n",
              "    <tr>\n",
              "      <th>236</th>\n",
              "      <td>35375</td>\n",
              "      <td>222305.0</td>\n",
              "    </tr>\n",
              "    <tr>\n",
              "      <th>240</th>\n",
              "      <td>18438</td>\n",
              "      <td>352914.0</td>\n",
              "    </tr>\n",
              "    <tr>\n",
              "      <th>241</th>\n",
              "      <td>610</td>\n",
              "      <td>11676.0</td>\n",
              "    </tr>\n",
              "    <tr>\n",
              "      <th>242</th>\n",
              "      <td>19048</td>\n",
              "      <td>364590.0</td>\n",
              "    </tr>\n",
              "    <tr>\n",
              "      <th>249</th>\n",
              "      <td>10064</td>\n",
              "      <td>27378.0</td>\n",
              "    </tr>\n",
              "    <tr>\n",
              "      <th>250</th>\n",
              "      <td>128943</td>\n",
              "      <td>350769.0</td>\n",
              "    </tr>\n",
              "    <tr>\n",
              "      <th>251</th>\n",
              "      <td>139007</td>\n",
              "      <td>378146.0</td>\n",
              "    </tr>\n",
              "    <tr>\n",
              "      <th>252</th>\n",
              "      <td>375403</td>\n",
              "      <td>340097.0</td>\n",
              "    </tr>\n",
              "    <tr>\n",
              "      <th>253</th>\n",
              "      <td>40636</td>\n",
              "      <td>36814.0</td>\n",
              "    </tr>\n",
              "    <tr>\n",
              "      <th>254</th>\n",
              "      <td>416039</td>\n",
              "      <td>376911.0</td>\n",
              "    </tr>\n",
              "  </tbody>\n",
              "</table>\n",
              "</div>"
            ],
            "text/plain": [
              "      Count  RatePerMillion\n",
              "24    33152        321471.0\n",
              "25     1737         16843.0\n",
              "26    34889        338314.0\n",
              "78    89810        221309.0\n",
              "79    10648         26239.0\n",
              "80   100458        247548.0\n",
              "93      294          6447.0\n",
              "94    10679        234163.0\n",
              "95    10973        240610.0\n",
              "99     8883        286724.0\n",
              "100     266          8586.0\n",
              "101    9149        295310.0\n",
              "102  100272        342920.0\n",
              "103   12920         44185.0\n",
              "104  113192        387106.0\n",
              "117    1382          8719.0\n",
              "118   57861        365031.0\n",
              "119   59243        373749.0\n",
              "135   16174        184620.0\n",
              "136    1599         18252.0\n",
              "137   17773        202872.0\n",
              "141     774          7862.0\n",
              "142   22838        231973.0\n",
              "143   23612        239835.0\n",
              "144    4409         22964.0\n",
              "145   51542        268455.0\n",
              "146   55951        291419.0\n",
              "153   28130         32186.0\n",
              "154  222400        254470.0\n",
              "155  250530        286657.0\n",
              "171    1365         16415.0\n",
              "172   12623        151799.0\n",
              "173   13988        168214.0\n",
              "177   34542        229515.0\n",
              "178    2516         16718.0\n",
              "179   37058        246233.0\n",
              "192  351635        279612.0\n",
              "193   61704         49066.0\n",
              "194  413339        328677.0\n",
              "222   72735        381733.0\n",
              "223    1908         10014.0\n",
              "224   74643        391747.0\n",
              "225   11183        271630.0\n",
              "226     464         11270.0\n",
              "227   11647        282900.0\n",
              "231   17773        260900.0\n",
              "232    1458         21403.0\n",
              "233   19231        282302.0\n",
              "234    4024         25288.0\n",
              "235   31351        197017.0\n",
              "236   35375        222305.0\n",
              "240   18438        352914.0\n",
              "241     610         11676.0\n",
              "242   19048        364590.0\n",
              "249   10064         27378.0\n",
              "250  128943        350769.0\n",
              "251  139007        378146.0\n",
              "252  375403        340097.0\n",
              "253   40636         36814.0\n",
              "254  416039        376911.0"
            ]
          },
          "metadata": {
            "tags": []
          },
          "execution_count": 19
        }
      ]
    },
    {
      "cell_type": "code",
      "metadata": {
        "id": "WgMm5oC5nNhJ",
        "colab": {
          "base_uri": "https://localhost:8080/",
          "height": 110
        },
        "outputId": "6a537aee-a5ee-41d6-85e8-5b0037c0c244"
      },
      "source": [
        "CBC_TotalSEQuant.corr()"
      ],
      "execution_count": null,
      "outputs": [
        {
          "output_type": "execute_result",
          "data": {
            "text/html": [
              "<div>\n",
              "<style scoped>\n",
              "    .dataframe tbody tr th:only-of-type {\n",
              "        vertical-align: middle;\n",
              "    }\n",
              "\n",
              "    .dataframe tbody tr th {\n",
              "        vertical-align: top;\n",
              "    }\n",
              "\n",
              "    .dataframe thead th {\n",
              "        text-align: right;\n",
              "    }\n",
              "</style>\n",
              "<table border=\"1\" class=\"dataframe\">\n",
              "  <thead>\n",
              "    <tr style=\"text-align: right;\">\n",
              "      <th></th>\n",
              "      <th>Count</th>\n",
              "      <th>RatePerMillion</th>\n",
              "    </tr>\n",
              "  </thead>\n",
              "  <tbody>\n",
              "    <tr>\n",
              "      <th>Count</th>\n",
              "      <td>1.000000</td>\n",
              "      <td>0.467099</td>\n",
              "    </tr>\n",
              "    <tr>\n",
              "      <th>RatePerMillion</th>\n",
              "      <td>0.467099</td>\n",
              "      <td>1.000000</td>\n",
              "    </tr>\n",
              "  </tbody>\n",
              "</table>\n",
              "</div>"
            ],
            "text/plain": [
              "                   Count  RatePerMillion\n",
              "Count           1.000000        0.467099\n",
              "RatePerMillion  0.467099        1.000000"
            ]
          },
          "metadata": {
            "tags": []
          },
          "execution_count": 20
        }
      ]
    },
    {
      "cell_type": "code",
      "metadata": {
        "id": "N_TdNa94oZ9G",
        "colab": {
          "base_uri": "https://localhost:8080/",
          "height": 391
        },
        "outputId": "a0b15db4-fc8a-4d31-c2e1-896224929854"
      },
      "source": [
        "sns.pairplot(CBC_TotalSEQuant)"
      ],
      "execution_count": null,
      "outputs": [
        {
          "output_type": "execute_result",
          "data": {
            "text/plain": [
              "<seaborn.axisgrid.PairGrid at 0x7f10f4d1edd8>"
            ]
          },
          "metadata": {
            "tags": []
          },
          "execution_count": 21
        },
        {
          "output_type": "display_data",
          "data": {
            "image/png": "[encoded data removed]",
            "text/plain": [
              "<Figure size 360x360 with 6 Axes>"
            ]
          },
          "metadata": {
            "tags": [],
            "needs_background": "light"
          }
        }
      ]
    },
    {
      "cell_type": "markdown",
      "metadata": {
        "id": "f0dV1PfGocxf"
      },
      "source": [
        "What I did here was strip away the qualitative data from the data frame in order to run the correlation matrix and subsequent sub-pairplot correlation matrix in Seaborn. There is a 46.7% correlation between testing and the infection rate per million in Southeast Michigan. Looking at both scatterplots that were produced from the code, there's a clear positive trend in the plotpoints that increases both on the x and y axis'. The histograms show the distribution of values for both Test Count and Infection Rate Per Million. Both histograms show a positive skewwing to the right, with a majority of observations falling at the beginning of the distribution on both."
      ]
    },
    {
      "cell_type": "code",
      "metadata": {
        "id": "Z-ocPpYJaWoR",
        "colab": {
          "base_uri": "https://localhost:8080/",
          "height": 615
        },
        "outputId": "9dd246bb-3ad2-4f52-9633-4df517f619bf"
      },
      "source": [
        "CBC_TotalSEQuant2 = CovidByCounty_TotalSE.drop(['COUNTY' , 'Updated' , 'Region'] , axis = 1)\n",
        "CBC_TotalSEQuant2\n",
        "sns.lmplot(x = 'Count' , y = 'RatePerMillion', data = CBC_TotalSEQuant2 , fit_reg= True , hue = 'TestType' , height = 8 , aspect = 1.5)\n",
        "plt.title('Test Count vs. Infection Rate by Test Type')\n",
        "plt.show()"
      ],
      "execution_count": null,
      "outputs": [
        {
          "output_type": "display_data",
          "data": {
            "image/png": "[encoded data removed]",
            "text/plain": [
              "<Figure size 953x576 with 1 Axes>"
            ]
          },
          "metadata": {
            "tags": [],
            "needs_background": "light"
          }
        }
      ]
    },
    {
      "cell_type": "markdown",
      "metadata": {
        "id": "8hSJ0VWydKxO"
      },
      "source": [
        "Adding back in the Test Type variable, you can see from the scatterplot above that diagnostic and Total test counts are more linear and are parallel to one another since diagnostic testing makes up 92% of the total. An interesting observation is in the lower left with the Serology test and infection rate plot points. There appears to be a stronger positive correlation between the number of tests administerred and the rate of infection"
      ]
    },
    {
      "cell_type": "markdown",
      "metadata": {
        "id": "OK4Ro2mge59r"
      },
      "source": [
        "**Step 6: Conclusion**"
      ]
    },
    {
      "cell_type": "markdown",
      "metadata": {
        "id": "6IbProiwfEmB"
      },
      "source": [
        "From the data, it's clear to see that the majority of the data points collected occured in the southeast region of the state, specifically in Wayne, Oakland, and Macomb counties. According to the 2010 census, these three counties have the most people living in them respectively, and further solidifies this observation. Looking at this segment of the data specifically, there was a positive correlation between the number of tests administered and the infection rate per million. When there is a higher infection rate, there's an increase in the amount of testing done. While the overall number of Serology tests completed across the state was small in comparison to the Diagnostic testing, almost 80% of all tests done were completed in the Southeast region. Serology testing also appears to have a stronger link to the rate of infection than diagnostic testing. This again ties back to the southeast region having the highest population of all the regions. Also something anecdotal to consider: there several hospital systems in the southeast that are currently are conducting research into trying to find cure to covid; the antibody testing that the serology tests look for would be valuable information to that research. Unfortunately, we cannot see the rate of testing broken out by hospitals, but this would be interesting data to analyze. "
      ]
    },
    {
      "cell_type": "markdown",
      "metadata": {
        "id": "b_Hu4DiwfFeY"
      },
      "source": [
        "**Miscellaneous Data/Code Not Used in Analysis**"
      ]
    },
    {
      "cell_type": "markdown",
      "metadata": {
        "id": "I8samwCAfPn9"
      },
      "source": [
        "The data and coding in this section was not ultimately used in my analysis above, but I thought I would keep it in here just in case anyone wanted to see some other techniques I was playing around with from the Mobi Boot Camp Libraries page."
      ]
    },
    {
      "cell_type": "code",
      "metadata": {
        "id": "axQ7M4tcFFqM"
      },
      "source": [
        "CovidByCounty_Pivot = pd.pivot_table(CovidByCounty_df2, index= 'COUNTY', values= ['Count' , 'RatePerMillion'] , columns= 'TestType' , aggfunc= np.sum)\n",
        "\n",
        "CovidByCounty_Pivot.head()"
      ],
      "execution_count": null,
      "outputs": []
    },
    {
      "cell_type": "code",
      "metadata": {
        "id": "-aB25-hyPas-"
      },
      "source": [
        "CovidByCounty_Pivot2 = pd.pivot_table(CovidByCounty_df2, index= 'Region', values= 'Count' , columns= 'TestType' , aggfunc= np.sum)\n",
        "CovidByCounty_Pivot2"
      ],
      "execution_count": null,
      "outputs": []
    },
    {
      "cell_type": "markdown",
      "metadata": {
        "id": "nqU50U0rXA6G"
      },
      "source": [
        "Something to point out here: when I create a pivot table that looks at the total number of tests done by region, we can clearly see that most of the testing is happening in the Southeast part of the state. This isn't that surprising, given that four of the five most heavily populated counties are in Southeast Michigan (based on 2010 census). The next highest amount is happening in the Southwest part of the state, where the Grand rapids metropolitan area is."
      ]
    },
    {
      "cell_type": "code",
      "metadata": {
        "id": "riel4a43aaG_"
      },
      "source": [
        "pd.pivot_table(CovidByCounty_df2, index= 'Region', values= 'Count' , columns= 'TestType', aggfunc= np.mean).plot.barh(stacked = False)"
      ],
      "execution_count": null,
      "outputs": []
    },
    {
      "cell_type": "markdown",
      "metadata": {
        "id": "yq46nYxyekhh"
      },
      "source": [
        "The bar chart above is looking at the average number of tests per region"
      ]
    },
    {
      "cell_type": "code",
      "metadata": {
        "id": "zgzTEct82XM3",
        "colab": {
          "resources": {
            "http://localhost:8080/nbextensions/google.colab/files.js": {
              "data": "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",
              "ok": true,
              "headers": [
                [
                  "content-type",
                  "application/javascript"
                ]
              ],
              "status": 200,
              "status_text": ""
            }
          },
          "base_uri": "https://localhost:8080/",
          "height": 39
        },
        "outputId": "f8cd8540-379b-430c-dad4-5e40a89a6260"
      },
      "source": [
        "from google.colab import files\n",
        "uploaded = files.upload()"
      ],
      "execution_count": null,
      "outputs": [
        {
          "output_type": "display_data",
          "data": {
            "text/html": [
              "\n",
              "     <input type=\"file\" id=\"files-f74a0398-232f-457f-a6cf-fff520c36084\" name=\"files[]\" multiple disabled\n",
              "        style=\"border:none\" />\n",
              "     <output id=\"result-f74a0398-232f-457f-a6cf-fff520c36084\">\n",
              "      Upload widget is only available when the cell has been executed in the\n",
              "      current browser session. Please rerun this cell to enable.\n",
              "      </output>\n",
              "      <script src=\"/nbextensions/google.colab/files.js\"></script> "
            ],
            "text/plain": [
              "<IPython.core.display.HTML object>"
            ]
          },
          "metadata": {
            "tags": []
          }
        }
      ]
    },
    {
      "cell_type": "code",
      "metadata": {
        "id": "R1Gs1ngQ3pEX"
      },
      "source": [
        "import io\n",
        "df = pd.read_csv(io.BytesIO(uploaded['DSE6000Lab1.csv']))\n",
        "\n",
        "print(df)\n",
        "for col in df.columns:\n",
        "  print(col)"
      ],
      "execution_count": null,
      "outputs": []
    },
    {
      "cell_type": "code",
      "metadata": {
        "id": "448v2SaR4lP9",
        "colab": {
          "base_uri": "https://localhost:8080/",
          "height": 183
        },
        "outputId": "d9fadcdb-8daa-4f2c-a9e7-c762ae53b40f"
      },
      "source": [
        "corr = pd.DataFrame(df).corr()\n",
        "sns.heatmap(corr, vmin=-1, vmax=1, center=0, cmap=sns.diverging_palette(200, 20, n=100))"
      ],
      "execution_count": null,
      "outputs": [
        {
          "output_type": "error",
          "ename": "NameError",
          "evalue": "ignored",
          "traceback": [
            "\u001b[0;31m---------------------------------------------------------------------------\u001b[0m",
            "\u001b[0;31mNameError\u001b[0m                                 Traceback (most recent call last)",
            "\u001b[0;32m<ipython-input-40-5ba793e65eae>\u001b[0m in \u001b[0;36m<module>\u001b[0;34m()\u001b[0m\n\u001b[0;32m----> 1\u001b[0;31m \u001b[0mcorr\u001b[0m \u001b[0;34m=\u001b[0m \u001b[0mpd\u001b[0m\u001b[0;34m.\u001b[0m\u001b[0mDataFrame\u001b[0m\u001b[0;34m(\u001b[0m\u001b[0mdf\u001b[0m\u001b[0;34m)\u001b[0m\u001b[0;34m.\u001b[0m\u001b[0mcorr\u001b[0m\u001b[0;34m(\u001b[0m\u001b[0;34m)\u001b[0m\u001b[0;34m\u001b[0m\u001b[0;34m\u001b[0m\u001b[0m\n\u001b[0m\u001b[1;32m      2\u001b[0m \u001b[0msns\u001b[0m\u001b[0;34m.\u001b[0m\u001b[0mheatmap\u001b[0m\u001b[0;34m(\u001b[0m\u001b[0mcorr\u001b[0m\u001b[0;34m,\u001b[0m \u001b[0mvmin\u001b[0m\u001b[0;34m=\u001b[0m\u001b[0;34m-\u001b[0m\u001b[0;36m1\u001b[0m\u001b[0;34m,\u001b[0m \u001b[0mvmax\u001b[0m\u001b[0;34m=\u001b[0m\u001b[0;36m1\u001b[0m\u001b[0;34m,\u001b[0m \u001b[0mcenter\u001b[0m\u001b[0;34m=\u001b[0m\u001b[0;36m0\u001b[0m\u001b[0;34m,\u001b[0m \u001b[0mcmap\u001b[0m\u001b[0;34m=\u001b[0m\u001b[0msns\u001b[0m\u001b[0;34m.\u001b[0m\u001b[0mdiverging_palette\u001b[0m\u001b[0;34m(\u001b[0m\u001b[0;36m200\u001b[0m\u001b[0;34m,\u001b[0m \u001b[0;36m20\u001b[0m\u001b[0;34m,\u001b[0m \u001b[0mn\u001b[0m\u001b[0;34m=\u001b[0m\u001b[0;36m100\u001b[0m\u001b[0;34m)\u001b[0m\u001b[0;34m)\u001b[0m\u001b[0;34m\u001b[0m\u001b[0;34m\u001b[0m\u001b[0m\n",
            "\u001b[0;31mNameError\u001b[0m: name 'df' is not defined"
          ]
        }
      ]
    },
    {
      "cell_type": "code",
      "metadata": {
        "id": "wseXgXBW5dzB",
        "colab": {
          "base_uri": "https://localhost:8080/",
          "height": 166
        },
        "outputId": "83a30794-f9d9-435a-a303-5463650e6328"
      },
      "source": [
        "sns.lmplot(x='Total Rate Per Million', y='Total Tests', data=df)"
      ],
      "execution_count": null,
      "outputs": [
        {
          "output_type": "error",
          "ename": "NameError",
          "evalue": "ignored",
          "traceback": [
            "\u001b[0;31m---------------------------------------------------------------------------\u001b[0m",
            "\u001b[0;31mNameError\u001b[0m                                 Traceback (most recent call last)",
            "\u001b[0;32m<ipython-input-39-542e8be20978>\u001b[0m in \u001b[0;36m<module>\u001b[0;34m()\u001b[0m\n\u001b[0;32m----> 1\u001b[0;31m \u001b[0msns\u001b[0m\u001b[0;34m.\u001b[0m\u001b[0mlmplot\u001b[0m\u001b[0;34m(\u001b[0m\u001b[0mx\u001b[0m\u001b[0;34m=\u001b[0m\u001b[0;34m'Total Rate Per Million'\u001b[0m\u001b[0;34m,\u001b[0m \u001b[0my\u001b[0m\u001b[0;34m=\u001b[0m\u001b[0;34m'Total Tests'\u001b[0m\u001b[0;34m,\u001b[0m \u001b[0mdata\u001b[0m\u001b[0;34m=\u001b[0m\u001b[0mdf\u001b[0m\u001b[0;34m)\u001b[0m\u001b[0;34m\u001b[0m\u001b[0;34m\u001b[0m\u001b[0m\n\u001b[0m",
            "\u001b[0;31mNameError\u001b[0m: name 'df' is not defined"
          ]
        }
      ]
    },
    {
      "cell_type": "code",
      "metadata": {
        "id": "i8KLr5cf5uCJ",
        "colab": {
          "base_uri": "https://localhost:8080/",
          "height": 253
        },
        "outputId": "8901023c-3100-48f2-f91f-80c26aa05207"
      },
      "source": [
        "Counties_By_Region = {'Midland':'Southeast' , 'Bay':'Southeast' , 'Saginaw':'Southeast' , 'Shiawassee':'Southeast' , 'Ingham':'Southeast' , 'Jackson':'Southeast' , 'Hillsdale':'Southeast' , 'Lenawee':'Southeast' , 'Monroe':'Southeast' , 'Wayne':'Southeast' , 'Macomb':'Southeast' , 'St Clair':'Southeast' , 'Sanilac':'Southeast' , 'Huron':'Southeast' , 'Tuscola':'Southeast' , 'Genesee':'Southeast' , 'Livingston':'Southeast' , 'Washtenaw':'Southeast' , 'Oakland':'Southeast' , 'Lapeer':'Southeast' , 'Isabella':'Southwest' , 'Mecosta':'Southwest' , 'Newaygo':'Southwest' , 'Oceana':'Southwest' , 'Muskegon':'Southwest' , 'Ottawa':'Southwest' , 'Allegan':'Southwest' , 'Van Buren':'Southwest' , 'Berrien':'Southwest' , 'Cass':'Southwest' , 'St Joseph':'Southwest' , 'Branch':'Southwest' , 'Calhoun':'Southwest' , 'Eaton':'Southwest' , 'Clinton':'Southwest' , 'Gratiot':'Southwest' ,'Montcalm':'Southwest' , 'Kent':'Southwest' , 'Ionia':'Southwest' , 'Barry':'Southwest' , 'Kalamazoo':'Southwest' , 'Arenac':'Northeast' , 'Gladwin':'Northeast' , 'Roscommon':'Northeast' , 'Crawford':'Northeast' , 'Otsego':'Northeast' , 'Cheboygan':'Northeast' , 'Presque Isle':'Northeast' , 'Alpena':'Northeast' , 'Alcona':'Northeast' , 'Iosco':'Northeast' , 'Ogemaw':'Northeast' , 'Oscoda':'Northeast' , 'Montmorency':'Northeast' , 'Clare':'Northwest' ,  'Osceola':'Northwest' , 'Lake':'Northwest' , 'Mason':'Northwest' , 'Manistee':'Northwest' , 'Benzie':'Northwest' , 'Leelanau':'Northwest' , 'Emmet':'Northwest' , 'Charlevoix':'Northwest' , 'Antrim':'Northwest' , 'Kalkaska':'Northwest' , 'Missaukee':'Northwest' , 'Wexford':'Northwest' , 'Grand Traverse':'Northwest' , 'Chippewa':'Upper Peninsula' ,  'Mackinac':'Upper Peninsula' , 'Luce':'Upper Peninsula' , 'Schoolcraft':'Upper Peninsula' , 'Alger':'Upper Peninsula' , 'Delta':'Upper Peninsula' , 'Menominee':'Upper Peninsula' , 'Dickinson':'Upper Peninsula' , 'Marquette':'Upper Peninsula' , 'Iron':'Upper Peninsula' , 'Baraga':'Upper Peninsula' , 'Houghton':'Upper Peninsula' , 'Keweenaw':'Upper Peninsula' , 'Ontonagon':'Upper Peninsula' , 'Gogebic':'Upper Peninsula'}\n",
        "df[\"Region\"] = df['County'].map(Counties_By_Region)\n",
        "df"
      ],
      "execution_count": null,
      "outputs": [
        {
          "output_type": "error",
          "ename": "NameError",
          "evalue": "ignored",
          "traceback": [
            "\u001b[0;31m---------------------------------------------------------------------------\u001b[0m",
            "\u001b[0;31mNameError\u001b[0m                                 Traceback (most recent call last)",
            "\u001b[0;32m<ipython-input-38-82c2c455f138>\u001b[0m in \u001b[0;36m<module>\u001b[0;34m()\u001b[0m\n\u001b[1;32m      1\u001b[0m \u001b[0mCounties_By_Region\u001b[0m \u001b[0;34m=\u001b[0m \u001b[0;34m{\u001b[0m\u001b[0;34m'Midland'\u001b[0m\u001b[0;34m:\u001b[0m\u001b[0;34m'Southeast'\u001b[0m \u001b[0;34m,\u001b[0m \u001b[0;34m'Bay'\u001b[0m\u001b[0;34m:\u001b[0m\u001b[0;34m'Southeast'\u001b[0m \u001b[0;34m,\u001b[0m \u001b[0;34m'Saginaw'\u001b[0m\u001b[0;34m:\u001b[0m\u001b[0;34m'Southeast'\u001b[0m \u001b[0;34m,\u001b[0m \u001b[0;34m'Shiawassee'\u001b[0m\u001b[0;34m:\u001b[0m\u001b[0;34m'Southeast'\u001b[0m \u001b[0;34m,\u001b[0m \u001b[0;34m'Ingham'\u001b[0m\u001b[0;34m:\u001b[0m\u001b[0;34m'Southeast'\u001b[0m \u001b[0;34m,\u001b[0m \u001b[0;34m'Jackson'\u001b[0m\u001b[0;34m:\u001b[0m\u001b[0;34m'Southeast'\u001b[0m \u001b[0;34m,\u001b[0m \u001b[0;34m'Hillsdale'\u001b[0m\u001b[0;34m:\u001b[0m\u001b[0;34m'Southeast'\u001b[0m \u001b[0;34m,\u001b[0m \u001b[0;34m'Lenawee'\u001b[0m\u001b[0;34m:\u001b[0m\u001b[0;34m'Southeast'\u001b[0m \u001b[0;34m,\u001b[0m \u001b[0;34m'Monroe'\u001b[0m\u001b[0;34m:\u001b[0m\u001b[0;34m'Southeast'\u001b[0m \u001b[0;34m,\u001b[0m \u001b[0;34m'Wayne'\u001b[0m\u001b[0;34m:\u001b[0m\u001b[0;34m'Southeast'\u001b[0m \u001b[0;34m,\u001b[0m \u001b[0;34m'Macomb'\u001b[0m\u001b[0;34m:\u001b[0m\u001b[0;34m'Southeast'\u001b[0m \u001b[0;34m,\u001b[0m \u001b[0;34m'St Clair'\u001b[0m\u001b[0;34m:\u001b[0m\u001b[0;34m'Southeast'\u001b[0m \u001b[0;34m,\u001b[0m \u001b[0;34m'Sanilac'\u001b[0m\u001b[0;34m:\u001b[0m\u001b[0;34m'Southeast'\u001b[0m \u001b[0;34m,\u001b[0m \u001b[0;34m'Huron'\u001b[0m\u001b[0;34m:\u001b[0m\u001b[0;34m'Southeast'\u001b[0m \u001b[0;34m,\u001b[0m \u001b[0;34m'Tuscola'\u001b[0m\u001b[0;34m:\u001b[0m\u001b[0;34m'Southeast'\u001b[0m \u001b[0;34m,\u001b[0m \u001b[0;34m'Genesee'\u001b[0m\u001b[0;34m:\u001b[0m\u001b[0;34m'Southeast'\u001b[0m \u001b[0;34m,\u001b[0m \u001b[0;34m'Livingston'\u001b[0m\u001b[0;34m:\u001b[0m\u001b[0;34m'Southeast'\u001b[0m \u001b[0;34m,\u001b[0m \u001b[0;34m'Washtenaw'\u001b[0m\u001b[0;34m:\u001b[0m\u001b[0;34m'Southeast'\u001b[0m \u001b[0;34m,\u001b[0m \u001b[0;34m'Oakland'\u001b[0m\u001b[0;34m:\u001b[0m\u001b[0;34m'Southeast'\u001b[0m \u001b[0;34m,\u001b[0m \u001b[0;34m'Lapeer'\u001b[0m\u001b[0;34m:\u001b[0m\u001b[0;34m'Southeast'\u001b[0m \u001b[0;34m,\u001b[0m \u001b[0;34m'Isabella'\u001b[0m\u001b[0;34m:\u001b[0m\u001b[0;34m'Southwest'\u001b[0m \u001b[0;34m,\u001b[0...\n\u001b[0;32m----> 2\u001b[0;31m \u001b[0mdf\u001b[0m\u001b[0;34m[\u001b[0m\u001b[0;34m\"Region\"\u001b[0m\u001b[0;34m]\u001b[0m \u001b[0;34m=\u001b[0m \u001b[0mdf\u001b[0m\u001b[0;34m[\u001b[0m\u001b[0;34m'County'\u001b[0m\u001b[0;34m]\u001b[0m\u001b[0;34m.\u001b[0m\u001b[0mmap\u001b[0m\u001b[0;34m(\u001b[0m\u001b[0mCounties_By_Region\u001b[0m\u001b[0;34m)\u001b[0m\u001b[0;34m\u001b[0m\u001b[0;34m\u001b[0m\u001b[0m\n\u001b[0m\u001b[1;32m      3\u001b[0m \u001b[0mdf\u001b[0m\u001b[0;34m\u001b[0m\u001b[0;34m\u001b[0m\u001b[0m\n",
            "\u001b[0;31mNameError\u001b[0m: name 'df' is not defined"
          ]
        }
      ]
    },
    {
      "cell_type": "code",
      "metadata": {
        "id": "V4XogDO06F3N",
        "colab": {
          "base_uri": "https://localhost:8080/",
          "height": 166
        },
        "outputId": "9804a32f-8fa3-45ea-c6b7-397d4f69cc74"
      },
      "source": [
        "df.hist(by = 'Region' , column= 'Total Tests' , figsize= [20,40])"
      ],
      "execution_count": null,
      "outputs": [
        {
          "output_type": "error",
          "ename": "NameError",
          "evalue": "ignored",
          "traceback": [
            "\u001b[0;31m---------------------------------------------------------------------------\u001b[0m",
            "\u001b[0;31mNameError\u001b[0m                                 Traceback (most recent call last)",
            "\u001b[0;32m<ipython-input-37-45ea78d4831a>\u001b[0m in \u001b[0;36m<module>\u001b[0;34m()\u001b[0m\n\u001b[0;32m----> 1\u001b[0;31m \u001b[0mdf\u001b[0m\u001b[0;34m.\u001b[0m\u001b[0mhist\u001b[0m\u001b[0;34m(\u001b[0m\u001b[0mby\u001b[0m \u001b[0;34m=\u001b[0m \u001b[0;34m'Region'\u001b[0m \u001b[0;34m,\u001b[0m \u001b[0mcolumn\u001b[0m\u001b[0;34m=\u001b[0m \u001b[0;34m'Total Tests'\u001b[0m \u001b[0;34m,\u001b[0m \u001b[0mfigsize\u001b[0m\u001b[0;34m=\u001b[0m \u001b[0;34m[\u001b[0m\u001b[0;36m20\u001b[0m\u001b[0;34m,\u001b[0m\u001b[0;36m40\u001b[0m\u001b[0;34m]\u001b[0m\u001b[0;34m)\u001b[0m\u001b[0;34m\u001b[0m\u001b[0;34m\u001b[0m\u001b[0m\n\u001b[0m",
            "\u001b[0;31mNameError\u001b[0m: name 'df' is not defined"
          ]
        }
      ]
    }
  ]
}